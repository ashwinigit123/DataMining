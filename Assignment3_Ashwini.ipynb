{
  "nbformat": 4,
  "nbformat_minor": 0,
  "metadata": {
    "colab": {
      "name": "Assignment3_Ashwini.ipynb",
      "provenance": [],
      "collapsed_sections": [],
      "mount_file_id": "1ih3Nv-zSdKjmLfFoE3p961jKr6tF1rgI",
      "authorship_tag": "ABX9TyMh2C6WiIG79YS6XvBxbo1/",
      "include_colab_link": true
    },
    "kernelspec": {
      "name": "python3",
      "display_name": "Python 3"
    },
    "language_info": {
      "name": "python"
    }
  },
  "cells": [
    {
      "cell_type": "markdown",
      "metadata": {
        "id": "view-in-github",
        "colab_type": "text"
      },
      "source": [
        "<a href=\"https://colab.research.google.com/github/ashwinigit123/DataMining/blob/main/Assignment3_Ashwini.ipynb\" target=\"_parent\"><img src=\"https://colab.research.google.com/assets/colab-badge.svg\" alt=\"Open In Colab\"/></a>"
      ]
    },
    {
      "cell_type": "code",
      "metadata": {
        "colab": {
          "base_uri": "https://localhost:8080/",
          "height": 200
        },
        "id": "Yjztz5uCjn_S",
        "outputId": "81682cbd-772c-4e8f-8f17-57f6e655397e"
      },
      "source": [
        "import pandas as pd\n",
        "#open the text file that needs to be read and converted to CSV\n",
        "#note: add the text file on drive to run\n",
        "imdb_file = open(r\"/content/drive/MyDrive/sentimentAnalysis/imdb.txt\", \"r\")\n",
        "def convertTextToCSV(file):\n",
        "    lines=file.readlines()\n",
        "    file.close()\n",
        "    rev_sentiments=[]\n",
        "    for l in lines:\n",
        "        x=l.split('\\t')\n",
        "        rev_sentiments.append([str.lstrip(str.rstrip(x[0])),str.lstrip(str.rstrip(x[1]))])\n",
        "    return rev_sentiments\n",
        "\n",
        "rs_list=convertTextToCSV(imdb_file)\n",
        "review_sentiment_DF=pd.DataFrame(rs_list,columns=['REVIEW','SENTIMENT'])\n",
        "review_sentiment_DF.to_csv('imdb.csv', index = None)\n",
        "df = pd.read_csv('imdb.csv')\n",
        "df.head()"
      ],
      "execution_count": 1728,
      "outputs": [
        {
          "output_type": "execute_result",
          "data": {
            "text/html": [
              "<div>\n",
              "<style scoped>\n",
              "    .dataframe tbody tr th:only-of-type {\n",
              "        vertical-align: middle;\n",
              "    }\n",
              "\n",
              "    .dataframe tbody tr th {\n",
              "        vertical-align: top;\n",
              "    }\n",
              "\n",
              "    .dataframe thead th {\n",
              "        text-align: right;\n",
              "    }\n",
              "</style>\n",
              "<table border=\"1\" class=\"dataframe\">\n",
              "  <thead>\n",
              "    <tr style=\"text-align: right;\">\n",
              "      <th></th>\n",
              "      <th>REVIEW</th>\n",
              "      <th>SENTIMENT</th>\n",
              "    </tr>\n",
              "  </thead>\n",
              "  <tbody>\n",
              "    <tr>\n",
              "      <th>0</th>\n",
              "      <td>A very, very, very slow-moving, aimless movie ...</td>\n",
              "      <td>0</td>\n",
              "    </tr>\n",
              "    <tr>\n",
              "      <th>1</th>\n",
              "      <td>Not sure who was more lost - the flat characte...</td>\n",
              "      <td>0</td>\n",
              "    </tr>\n",
              "    <tr>\n",
              "      <th>2</th>\n",
              "      <td>Attempting artiness with black &amp; white and cle...</td>\n",
              "      <td>0</td>\n",
              "    </tr>\n",
              "    <tr>\n",
              "      <th>3</th>\n",
              "      <td>Very little music or anything to speak of.</td>\n",
              "      <td>0</td>\n",
              "    </tr>\n",
              "    <tr>\n",
              "      <th>4</th>\n",
              "      <td>The best scene in the movie was when Gerardo i...</td>\n",
              "      <td>1</td>\n",
              "    </tr>\n",
              "  </tbody>\n",
              "</table>\n",
              "</div>"
            ],
            "text/plain": [
              "                                              REVIEW  SENTIMENT\n",
              "0  A very, very, very slow-moving, aimless movie ...          0\n",
              "1  Not sure who was more lost - the flat characte...          0\n",
              "2  Attempting artiness with black & white and cle...          0\n",
              "3         Very little music or anything to speak of.          0\n",
              "4  The best scene in the movie was when Gerardo i...          1"
            ]
          },
          "metadata": {
            "tags": []
          },
          "execution_count": 1728
        }
      ]
    },
    {
      "cell_type": "code",
      "metadata": {
        "colab": {
          "base_uri": "https://localhost:8080/",
          "height": 291
        },
        "id": "Z6FZdCCch6xi",
        "outputId": "6fd391a2-4203-4dfa-c34f-f6b21e363dbb"
      },
      "source": [
        "df.describe()"
      ],
      "execution_count": 1729,
      "outputs": [
        {
          "output_type": "execute_result",
          "data": {
            "text/html": [
              "<div>\n",
              "<style scoped>\n",
              "    .dataframe tbody tr th:only-of-type {\n",
              "        vertical-align: middle;\n",
              "    }\n",
              "\n",
              "    .dataframe tbody tr th {\n",
              "        vertical-align: top;\n",
              "    }\n",
              "\n",
              "    .dataframe thead th {\n",
              "        text-align: right;\n",
              "    }\n",
              "</style>\n",
              "<table border=\"1\" class=\"dataframe\">\n",
              "  <thead>\n",
              "    <tr style=\"text-align: right;\">\n",
              "      <th></th>\n",
              "      <th>SENTIMENT</th>\n",
              "    </tr>\n",
              "  </thead>\n",
              "  <tbody>\n",
              "    <tr>\n",
              "      <th>count</th>\n",
              "      <td>1000.00000</td>\n",
              "    </tr>\n",
              "    <tr>\n",
              "      <th>mean</th>\n",
              "      <td>0.50000</td>\n",
              "    </tr>\n",
              "    <tr>\n",
              "      <th>std</th>\n",
              "      <td>0.50025</td>\n",
              "    </tr>\n",
              "    <tr>\n",
              "      <th>min</th>\n",
              "      <td>0.00000</td>\n",
              "    </tr>\n",
              "    <tr>\n",
              "      <th>25%</th>\n",
              "      <td>0.00000</td>\n",
              "    </tr>\n",
              "    <tr>\n",
              "      <th>50%</th>\n",
              "      <td>0.50000</td>\n",
              "    </tr>\n",
              "    <tr>\n",
              "      <th>75%</th>\n",
              "      <td>1.00000</td>\n",
              "    </tr>\n",
              "    <tr>\n",
              "      <th>max</th>\n",
              "      <td>1.00000</td>\n",
              "    </tr>\n",
              "  </tbody>\n",
              "</table>\n",
              "</div>"
            ],
            "text/plain": [
              "        SENTIMENT\n",
              "count  1000.00000\n",
              "mean      0.50000\n",
              "std       0.50025\n",
              "min       0.00000\n",
              "25%       0.00000\n",
              "50%       0.50000\n",
              "75%       1.00000\n",
              "max       1.00000"
            ]
          },
          "metadata": {
            "tags": []
          },
          "execution_count": 1729
        }
      ]
    },
    {
      "cell_type": "code",
      "metadata": {
        "colab": {
          "base_uri": "https://localhost:8080/",
          "height": 276
        },
        "id": "0KRNjz5x8vSZ",
        "outputId": "4476432e-4249-4d7a-8f65-d3fbebe639cd"
      },
      "source": [
        "import matplotlib.pyplot as plt\n",
        "\n",
        "review_sentiment_DF.groupby('SENTIMENT').REVIEW.count().plot.bar(ylim=0)\n",
        "plt.show()\n"
      ],
      "execution_count": 1730,
      "outputs": [
        {
          "output_type": "display_data",
          "data": {
            "image/png": "[encoded data removed]",
            "text/plain": [
              "<Figure size 432x288 with 1 Axes>"
            ]
          },
          "metadata": {
            "tags": [],
            "needs_background": "light"
          }
        }
      ]
    },
    {
      "cell_type": "code",
      "metadata": {
        "colab": {
          "base_uri": "https://localhost:8080/"
        },
        "id": "9zdOoK_Ll4Nn",
        "outputId": "22ca07b0-fbee-402b-dcc9-b11ade9b3b9b"
      },
      "source": [
        "train_split = int(0.8 * len(df))\n",
        "print(train_split)\n",
        "dev_split = int(0.9 * len(df))\n",
        "print(dev_split)\n",
        "train_set = review_sentiment_DF[:train_split]\n",
        "dev_set = review_sentiment_DF[train_split:dev_split]\n",
        "test_set = review_sentiment_DF[dev_split:]"
      ],
      "execution_count": 1731,
      "outputs": [
        {
          "output_type": "stream",
          "text": [
            "800\n",
            "900\n"
          ],
          "name": "stdout"
        }
      ]
    },
    {
      "cell_type": "code",
      "metadata": {
        "colab": {
          "base_uri": "https://localhost:8080/",
          "height": 200
        },
        "id": "D5MJbohwm0Dr",
        "outputId": "94c3924e-da1d-4f6e-af14-2e7c06778430"
      },
      "source": [
        "train_set.head(5)"
      ],
      "execution_count": 1732,
      "outputs": [
        {
          "output_type": "execute_result",
          "data": {
            "text/html": [
              "<div>\n",
              "<style scoped>\n",
              "    .dataframe tbody tr th:only-of-type {\n",
              "        vertical-align: middle;\n",
              "    }\n",
              "\n",
              "    .dataframe tbody tr th {\n",
              "        vertical-align: top;\n",
              "    }\n",
              "\n",
              "    .dataframe thead th {\n",
              "        text-align: right;\n",
              "    }\n",
              "</style>\n",
              "<table border=\"1\" class=\"dataframe\">\n",
              "  <thead>\n",
              "    <tr style=\"text-align: right;\">\n",
              "      <th></th>\n",
              "      <th>REVIEW</th>\n",
              "      <th>SENTIMENT</th>\n",
              "    </tr>\n",
              "  </thead>\n",
              "  <tbody>\n",
              "    <tr>\n",
              "      <th>0</th>\n",
              "      <td>A very, very, very slow-moving, aimless movie ...</td>\n",
              "      <td>0</td>\n",
              "    </tr>\n",
              "    <tr>\n",
              "      <th>1</th>\n",
              "      <td>Not sure who was more lost - the flat characte...</td>\n",
              "      <td>0</td>\n",
              "    </tr>\n",
              "    <tr>\n",
              "      <th>2</th>\n",
              "      <td>Attempting artiness with black &amp; white and cle...</td>\n",
              "      <td>0</td>\n",
              "    </tr>\n",
              "    <tr>\n",
              "      <th>3</th>\n",
              "      <td>Very little music or anything to speak of.</td>\n",
              "      <td>0</td>\n",
              "    </tr>\n",
              "    <tr>\n",
              "      <th>4</th>\n",
              "      <td>The best scene in the movie was when Gerardo i...</td>\n",
              "      <td>1</td>\n",
              "    </tr>\n",
              "  </tbody>\n",
              "</table>\n",
              "</div>"
            ],
            "text/plain": [
              "                                              REVIEW SENTIMENT\n",
              "0  A very, very, very slow-moving, aimless movie ...         0\n",
              "1  Not sure who was more lost - the flat characte...         0\n",
              "2  Attempting artiness with black & white and cle...         0\n",
              "3         Very little music or anything to speak of.         0\n",
              "4  The best scene in the movie was when Gerardo i...         1"
            ]
          },
          "metadata": {
            "tags": []
          },
          "execution_count": 1732
        }
      ]
    },
    {
      "cell_type": "code",
      "metadata": {
        "colab": {
          "base_uri": "https://localhost:8080/",
          "height": 411
        },
        "id": "U7S4uGE4m8_W",
        "outputId": "6abef528-594a-4477-88fd-f260ffb326ab"
      },
      "source": [
        "dev_set"
      ],
      "execution_count": 1733,
      "outputs": [
        {
          "output_type": "execute_result",
          "data": {
            "text/html": [
              "<div>\n",
              "<style scoped>\n",
              "    .dataframe tbody tr th:only-of-type {\n",
              "        vertical-align: middle;\n",
              "    }\n",
              "\n",
              "    .dataframe tbody tr th {\n",
              "        vertical-align: top;\n",
              "    }\n",
              "\n",
              "    .dataframe thead th {\n",
              "        text-align: right;\n",
              "    }\n",
              "</style>\n",
              "<table border=\"1\" class=\"dataframe\">\n",
              "  <thead>\n",
              "    <tr style=\"text-align: right;\">\n",
              "      <th></th>\n",
              "      <th>REVIEW</th>\n",
              "      <th>SENTIMENT</th>\n",
              "    </tr>\n",
              "  </thead>\n",
              "  <tbody>\n",
              "    <tr>\n",
              "      <th>800</th>\n",
              "      <td>In fact, this stinker smells like a direct-to-...</td>\n",
              "      <td>0</td>\n",
              "    </tr>\n",
              "    <tr>\n",
              "      <th>801</th>\n",
              "      <td>Avoid at ALL costs!</td>\n",
              "      <td>0</td>\n",
              "    </tr>\n",
              "    <tr>\n",
              "      <th>802</th>\n",
              "      <td>Star Trek V The final Frontier is the worst in...</td>\n",
              "      <td>0</td>\n",
              "    </tr>\n",
              "    <tr>\n",
              "      <th>803</th>\n",
              "      <td>The acting from all involved and that includes...</td>\n",
              "      <td>0</td>\n",
              "    </tr>\n",
              "    <tr>\n",
              "      <th>804</th>\n",
              "      <td>The attempts at humor were pitiful and story i...</td>\n",
              "      <td>0</td>\n",
              "    </tr>\n",
              "    <tr>\n",
              "      <th>...</th>\n",
              "      <td>...</td>\n",
              "      <td>...</td>\n",
              "    </tr>\n",
              "    <tr>\n",
              "      <th>895</th>\n",
              "      <td>There aren't death scenes like in previous mov...</td>\n",
              "      <td>0</td>\n",
              "    </tr>\n",
              "    <tr>\n",
              "      <th>896</th>\n",
              "      <td>I felt asleep the first time I watched it, so ...</td>\n",
              "      <td>0</td>\n",
              "    </tr>\n",
              "    <tr>\n",
              "      <th>897</th>\n",
              "      <td>The fact is, this film is a wonderful, heartwa...</td>\n",
              "      <td>1</td>\n",
              "    </tr>\n",
              "    <tr>\n",
              "      <th>898</th>\n",
              "      <td>The best part about \"Nurse Betty\" is it's unpr...</td>\n",
              "      <td>1</td>\n",
              "    </tr>\n",
              "    <tr>\n",
              "      <th>899</th>\n",
              "      <td>Director Neil LaBute uses brutal violence to s...</td>\n",
              "      <td>1</td>\n",
              "    </tr>\n",
              "  </tbody>\n",
              "</table>\n",
              "<p>100 rows × 2 columns</p>\n",
              "</div>"
            ],
            "text/plain": [
              "                                                REVIEW SENTIMENT\n",
              "800  In fact, this stinker smells like a direct-to-...         0\n",
              "801                                Avoid at ALL costs!         0\n",
              "802  Star Trek V The final Frontier is the worst in...         0\n",
              "803  The acting from all involved and that includes...         0\n",
              "804  The attempts at humor were pitiful and story i...         0\n",
              "..                                                 ...       ...\n",
              "895  There aren't death scenes like in previous mov...         0\n",
              "896  I felt asleep the first time I watched it, so ...         0\n",
              "897  The fact is, this film is a wonderful, heartwa...         1\n",
              "898  The best part about \"Nurse Betty\" is it's unpr...         1\n",
              "899  Director Neil LaBute uses brutal violence to s...         1\n",
              "\n",
              "[100 rows x 2 columns]"
            ]
          },
          "metadata": {
            "tags": []
          },
          "execution_count": 1733
        }
      ]
    },
    {
      "cell_type": "code",
      "metadata": {
        "colab": {
          "base_uri": "https://localhost:8080/",
          "height": 411
        },
        "id": "_Wwd6SK8m_x5",
        "outputId": "5078936d-49e1-48df-d7bb-aa8a7ce38750"
      },
      "source": [
        "test_set"
      ],
      "execution_count": 1734,
      "outputs": [
        {
          "output_type": "execute_result",
          "data": {
            "text/html": [
              "<div>\n",
              "<style scoped>\n",
              "    .dataframe tbody tr th:only-of-type {\n",
              "        vertical-align: middle;\n",
              "    }\n",
              "\n",
              "    .dataframe tbody tr th {\n",
              "        vertical-align: top;\n",
              "    }\n",
              "\n",
              "    .dataframe thead th {\n",
              "        text-align: right;\n",
              "    }\n",
              "</style>\n",
              "<table border=\"1\" class=\"dataframe\">\n",
              "  <thead>\n",
              "    <tr style=\"text-align: right;\">\n",
              "      <th></th>\n",
              "      <th>REVIEW</th>\n",
              "      <th>SENTIMENT</th>\n",
              "    </tr>\n",
              "  </thead>\n",
              "  <tbody>\n",
              "    <tr>\n",
              "      <th>900</th>\n",
              "      <td>Otherwise, don't even waste your time on this.</td>\n",
              "      <td>0</td>\n",
              "    </tr>\n",
              "    <tr>\n",
              "      <th>901</th>\n",
              "      <td>This one just fails to create any real suspense.</td>\n",
              "      <td>0</td>\n",
              "    </tr>\n",
              "    <tr>\n",
              "      <th>902</th>\n",
              "      <td>As for the killer, don't expect anything origi...</td>\n",
              "      <td>0</td>\n",
              "    </tr>\n",
              "    <tr>\n",
              "      <th>903</th>\n",
              "      <td>There is, however, some pretty good acting (at...</td>\n",
              "      <td>1</td>\n",
              "    </tr>\n",
              "    <tr>\n",
              "      <th>904</th>\n",
              "      <td>I'm so sorry but I really can't recommend it t...</td>\n",
              "      <td>0</td>\n",
              "    </tr>\n",
              "    <tr>\n",
              "      <th>...</th>\n",
              "      <td>...</td>\n",
              "      <td>...</td>\n",
              "    </tr>\n",
              "    <tr>\n",
              "      <th>995</th>\n",
              "      <td>I just got bored watching Jessice Lange take h...</td>\n",
              "      <td>0</td>\n",
              "    </tr>\n",
              "    <tr>\n",
              "      <th>996</th>\n",
              "      <td>Unfortunately, any virtue in this film's produ...</td>\n",
              "      <td>0</td>\n",
              "    </tr>\n",
              "    <tr>\n",
              "      <th>997</th>\n",
              "      <td>In a word, it is embarrassing.</td>\n",
              "      <td>0</td>\n",
              "    </tr>\n",
              "    <tr>\n",
              "      <th>998</th>\n",
              "      <td>Exceptionally bad!</td>\n",
              "      <td>0</td>\n",
              "    </tr>\n",
              "    <tr>\n",
              "      <th>999</th>\n",
              "      <td>All in all its an insult to one's intelligence...</td>\n",
              "      <td>0</td>\n",
              "    </tr>\n",
              "  </tbody>\n",
              "</table>\n",
              "<p>100 rows × 2 columns</p>\n",
              "</div>"
            ],
            "text/plain": [
              "                                                REVIEW SENTIMENT\n",
              "900     Otherwise, don't even waste your time on this.         0\n",
              "901   This one just fails to create any real suspense.         0\n",
              "902  As for the killer, don't expect anything origi...         0\n",
              "903  There is, however, some pretty good acting (at...         1\n",
              "904  I'm so sorry but I really can't recommend it t...         0\n",
              "..                                                 ...       ...\n",
              "995  I just got bored watching Jessice Lange take h...         0\n",
              "996  Unfortunately, any virtue in this film's produ...         0\n",
              "997                     In a word, it is embarrassing.         0\n",
              "998                                 Exceptionally bad!         0\n",
              "999  All in all its an insult to one's intelligence...         0\n",
              "\n",
              "[100 rows x 2 columns]"
            ]
          },
          "metadata": {
            "tags": []
          },
          "execution_count": 1734
        }
      ]
    },
    {
      "cell_type": "code",
      "metadata": {
        "id": "DlBHgS3E86bR"
      },
      "source": [
        "#Calculating the probability of any word in the given document.\n",
        "def wordProbabiltity(data,word,numofDoc):\n",
        "    data_dictionary=dict(data)\n",
        "    if word in data_dictionary.keys():\n",
        "        return data_dictionary[word] / numofDoc\n",
        "    else: return 0"
      ],
      "execution_count": 1735,
      "outputs": []
    },
    {
      "cell_type": "code",
      "metadata": {
        "id": "J2yVpED-Xtpw"
      },
      "source": [
        "from collections import Counter\n",
        "#calculating the uniquewords and building the vocabulary by ommitting rare words(Words occuring less than 5 times)\n",
        "def countUniqueWords(data):\n",
        "    reviews = data\n",
        "    vocab = []\n",
        "    for review in reviews:\n",
        "        for word in review.split(' '):\n",
        "                vocab.append(word)\n",
        "    vocab = Counter(vocab)\n",
        "    vocab = Counter({k: v for k, v in vocab.items() if v > 5}) #removing rare word if occuring less than 5 times.\n",
        "    return vocab\n"
      ],
      "execution_count": 1736,
      "outputs": []
    },
    {
      "cell_type": "code",
      "metadata": {
        "id": "OoHfhS5wZGnL"
      },
      "source": [
        "uniqueWordcount = countUniqueWords(list(list(zip(*review_sentiment_DF.values))[0]))"
      ],
      "execution_count": 1737,
      "outputs": []
    },
    {
      "cell_type": "code",
      "metadata": {
        "colab": {
          "base_uri": "https://localhost:8080/"
        },
        "id": "em8eSZ-2ZjIa",
        "outputId": "e06a1e4a-b8fe-4ab4-a0c4-53bcf49dc467"
      },
      "source": [
        "print(\"The P['the'] in the given number of documents: \",wordProbabiltity(uniqueWordcount,'the',len(review_sentiment_DF)))"
      ],
      "execution_count": 1738,
      "outputs": [
        {
          "output_type": "stream",
          "text": [
            "The P['the'] in the given number of documents:  0.655\n"
          ],
          "name": "stdout"
        }
      ]
    },
    {
      "cell_type": "code",
      "metadata": {
        "colab": {
          "base_uri": "https://localhost:8080/"
        },
        "id": "4YF4PVxYqkss",
        "outputId": "c295fce2-73a6-402c-bdbe-5724b50cdfb5"
      },
      "source": [
        "print(\"The P['a'] in the given number of documents: \",wordProbabiltity(uniqueWordcount,'a',len(review_sentiment_DF)))"
      ],
      "execution_count": 1739,
      "outputs": [
        {
          "output_type": "stream",
          "text": [
            "The P['a'] in the given number of documents:  0.411\n"
          ],
          "name": "stdout"
        }
      ]
    },
    {
      "cell_type": "code",
      "metadata": {
        "id": "Dpc_tVHPaPZU"
      },
      "source": [
        "import numpy as np\n",
        "#calculate the conditional Probability of given words based on sentiments\n",
        "def calulateConditionalProbabilty(A,B,word,givenSentiment):\n",
        "    #Grouping the Similar sentiments together \n",
        "    sentimentGroup = np.unique(B)\n",
        "    dictionary = dict()\n",
        "    #creating a dictionary of of sentiments.\n",
        "    for sentiment in sentimentGroup:\n",
        "        dictionary[sentiment] = A[np.where(B == sentiment)]\n",
        "\n",
        "    #Counting postive words and negative words\n",
        "    countPostivewords = dict(countUniqueWords(dictionary['1']))\n",
        "    countNegativeWords = dict(countUniqueWords(dictionary['0']))\n",
        "    \n",
        "    #caculating the probabilty for the given sentiment\n",
        "    if givenSentiment == '1':\n",
        "        if word in countPostivewords.keys():\n",
        "            return countPostivewords[word]/ len(dictionary['1'])\n",
        "        else: return 0\n",
        "    else:\n",
        "        if word in countNegativeWords.keys():\n",
        "            return countNegativeWords[word]/ len(dictionary['0'])\n",
        "        else: return 0\n"
      ],
      "execution_count": 1740,
      "outputs": []
    },
    {
      "cell_type": "code",
      "metadata": {
        "colab": {
          "base_uri": "https://localhost:8080/"
        },
        "id": "3BUoNLTQaR6Z",
        "outputId": "cccf9d88-0b2d-4044-e282-c8864eb26fc5"
      },
      "source": [
        "#caculating the conditional probability for the given sentiment is 1.\n",
        "A = train_set['REVIEW'].values\n",
        "B = train_set['SENTIMENT'].values\n",
        "\n",
        "print(\" The P['the'|positive] is:\", calulateConditionalProbabilty(A,B,'the','1'))\n"
      ],
      "execution_count": 1741,
      "outputs": [
        {
          "output_type": "stream",
          "text": [
            " The P['the'|positive] is: 0.694300518134715\n"
          ],
          "name": "stdout"
        }
      ]
    },
    {
      "cell_type": "code",
      "metadata": {
        "id": "N4Pm7Xf6zr1R"
      },
      "source": [
        "#Calculating the probability of each sentiment\n",
        "def probabilityOfSentiment(sentiment,dataset):\n",
        "  return list(dataset).count(sentiment) / len(list(dataset))"
      ],
      "execution_count": 1742,
      "outputs": []
    },
    {
      "cell_type": "code",
      "metadata": {
        "id": "iOPpIavxcfcu"
      },
      "source": [
        "#defining the naive bayes classifer\n",
        "class NaiveBayes:\n",
        "    def __init__(self,X,y,test,alpha,flag):\n",
        "        self.alpha = alpha\n",
        "        self.X = X\n",
        "        self.y = y\n",
        "        self.test = test\n",
        "        self.sentiment = np.unique(y)\n",
        "        self.flag = flag\n",
        "        \n",
        "    def naiveBayesAlgo(self,word,sentiment):\n",
        "        probWordGivenSentiment = calulateConditionalProbabilty(self.X,self.y,word,sentiment)\n",
        "        \n",
        "        probOfSentiment = probabilityOfSentiment(sentiment,self.y)\n",
        "        \n",
        "        countUniqueWordsInDataset = countUniqueWords(list(self.X))\n",
        "        probOfWordOccur = wordProbabiltity(countUniqueWordsInDataset,word,len(self.X))\n",
        "        \n",
        "        if probOfWordOccur == 0:\n",
        "            probOfWordOccur = 0.0000001\n",
        "        if self.alpha == 0:\n",
        "            return (probWordGivenSentiment*probOfSentiment)/probOfWordOccur  #withouth smoothing\n",
        "        else:\n",
        "            if word in self.wordcount.keys():\n",
        "                count = self.wordcount[word]\n",
        "            else: count = 1\n",
        "            return ((probWordGivenSentiment*probOfSentiment) + self.alpha) / (probOfWordOccur + count) #with smoothing\n",
        "        \n",
        "        \n",
        "    def NaiveBayespredict(self):\n",
        "        result = 1\n",
        "        y_pred = []\n",
        "        positive = 0\n",
        "        negative = 0\n",
        "        self.separated = dict()\n",
        "        posdict = dict()\n",
        "        negdict = dict()\n",
        "        \n",
        "        self.wordcount = dict(countUniqueWords(self.X)) #vocab list\n",
        "        \n",
        "        for i in self.sentiment:\n",
        "            self.separated[i] = self.X[np.where(self.y == i)] \n",
        "        self.countpos = dict(countUniqueWords(self.separated['1']))\n",
        "        self.countneg = dict(countUniqueWords(self.separated['0']))\n",
        "        \n",
        "        if self.flag != True:\n",
        "            for review in self.test:\n",
        "                for senti in self.sentiment:\n",
        "                    for word in review.split():\n",
        "                        prob = self.naiveBayesAlgo(word,senti)\n",
        "                        result = result * prob\n",
        "                    if senti == 1:\n",
        "                        positive = result\n",
        "                    else:\n",
        "                        negative = result\n",
        "\n",
        "                if positive > negative:\n",
        "                    y_pred.append('1')\n",
        "                else: y_pred.append('0')\n",
        "\n",
        "            return y_pred\n",
        "        else:\n",
        "            for word in self.countpos.keys(): \n",
        "                prob = self.naiveBayesAlgo(word,'1')\n",
        "                posdict[word] = prob\n",
        "            for word in self.countneg.keys(): \n",
        "                prob = self.naiveBayesAlgo(word,'0')\n",
        "                negdict[word] = prob\n",
        "            return posdict,negdict"
      ],
      "execution_count": 1743,
      "outputs": []
    },
    {
      "cell_type": "code",
      "metadata": {
        "id": "f4mEJOyFALcI"
      },
      "source": [
        "def calculateAccuracy(actual,predicted):\n",
        "    correctPredict = 0.0\n",
        "    for y_true, y_pred in zip(actual,predicted):\n",
        "        if y_true == y_pred:\n",
        "            correctPredict += 1\n",
        "    return correctPredict / float(len(actual)) * 100.0"
      ],
      "execution_count": 1744,
      "outputs": []
    },
    {
      "cell_type": "code",
      "metadata": {
        "id": "9c_G8j0sj1ip"
      },
      "source": [
        "def cross_valid(data,k,alpha):\n",
        "    devsize = 1/k\n",
        "    score = []\n",
        "    for i in range(1, k + 1):\n",
        "        devdata = data.sample(frac=devsize, random_state=i, replace=False).copy(deep=True)\n",
        "        traindata = data.drop(devdata.index, axis=0).copy(deep=True)\n",
        "        X_dev = devdata['REVIEW'].values\n",
        "        y_dev = devdata['SENTIMENT'].values\n",
        "        X_train = traindata['REVIEW'].values\n",
        "        y_train = traindata['SENTIMENT'].values\n",
        "        classifer = NaiveBayes(X_train,y_train,X_dev,alpha,flag= False)\n",
        "        ypred = np.array(classifer.NaiveBayespredict())\n",
        "        score.append(calculateAccuracy(y_dev,ypred))\n",
        "    return score"
      ],
      "execution_count": 1745,
      "outputs": []
    },
    {
      "cell_type": "code",
      "metadata": {
        "colab": {
          "base_uri": "https://localhost:8080/"
        },
        "id": "8dmkg5fBHStW",
        "outputId": "70b54afa-7a9a-44e3-96da-3998803d70cd"
      },
      "source": [
        "X_train = train_set['REVIEW'].values\n",
        "y_train = train_set['SENTIMENT'].values\n",
        "X_dev = dev_set['REVIEW'].values\n",
        "y_dev = dev_set['SENTIMENT'].values\n",
        "classifer = NaiveBayes(X_train,y_train,X_dev,0,0)\n",
        "ypred = classifer.NaiveBayespredict()\n",
        "ypred = np.array(ypred)\n",
        "print(\"Accuracy on the dev Dataset without smoothing is:\",calculateAccuracy(y_dev,ypred))"
      ],
      "execution_count": 1746,
      "outputs": [
        {
          "output_type": "stream",
          "text": [
            "Accuracy on the dev Dataset without smoothing is: 53.0\n"
          ],
          "name": "stdout"
        }
      ]
    },
    {
      "cell_type": "code",
      "metadata": {
        "colab": {
          "base_uri": "https://localhost:8080/"
        },
        "id": "_j1rVk7Hj3Dg",
        "outputId": "87051187-f79e-49ef-dd50-9db30573458b"
      },
      "source": [
        "score = cross_valid(train_set,5,1)\n",
        "print(\"Accuracy on dev data with smoothing with alpha 1 : {} %\".format(np.mean(score)))"
      ],
      "execution_count": 1747,
      "outputs": [
        {
          "output_type": "stream",
          "text": [
            "Accuracy on dev data with smoothing with alpha 1 : 51.375 %\n"
          ],
          "name": "stdout"
        }
      ]
    },
    {
      "cell_type": "code",
      "metadata": {
        "colab": {
          "base_uri": "https://localhost:8080/"
        },
        "id": "RVVkbHT_kME6",
        "outputId": "e168b44f-65ba-4bcd-dc2a-1c9fe04a95c2"
      },
      "source": [
        "score2 = cross_valid(train_set,5,0.001)\n",
        "print(\"Accuracy on dev data with smoothing with alpha 0.001 : {} %\".format(np.mean(score2)))"
      ],
      "execution_count": 1748,
      "outputs": [
        {
          "output_type": "stream",
          "text": [
            "Accuracy on dev data with smoothing with alpha 0.001 : 51.375 %\n"
          ],
          "name": "stdout"
        }
      ]
    },
    {
      "cell_type": "code",
      "metadata": {
        "id": "b4S8J1BVkVdP"
      },
      "source": [
        "positive=dict()\n",
        "wrodcount = dict(uniqueWordcount)\n",
        "classifer = NaiveBayes(X_train,y_train,0,1,flag=True)\n",
        "pos, neg = classifer.NaiveBayespredict()"
      ],
      "execution_count": 1749,
      "outputs": []
    },
    {
      "cell_type": "code",
      "metadata": {
        "colab": {
          "base_uri": "https://localhost:8080/"
        },
        "id": "WFNTi4ytkW6k",
        "outputId": "3483ea0e-ebd6-467b-a0f4-8312bddeeb48"
      },
      "source": [
        "pos"
      ],
      "execution_count": 1750,
      "outputs": [
        {
          "output_type": "execute_result",
          "data": {
            "text/plain": [
              "{'-': 0.03598180845371857,\n",
              " '10': 0.10099875156054931,\n",
              " 'A': 0.06320224719101124,\n",
              " 'All': 0.1118046885837148,\n",
              " 'And': 0.0838535164377861,\n",
              " 'But': 0.04385822070238289,\n",
              " 'I': 0.005514950971479825,\n",
              " 'If': 0.07196361690743713,\n",
              " 'It': 0.021887534199272186,\n",
              " \"It's\": 0.0482729920932168,\n",
              " 'John': 0.14374888532191904,\n",
              " 'The': 0.007525804012589897,\n",
              " 'This': 0.016307740324594255,\n",
              " 'a': 0.0037994302787150735,\n",
              " 'about': 0.03007270323859881,\n",
              " 'acting': 0.0420307948397836,\n",
              " 'actors': 0.10062421972534333,\n",
              " 'actually': 0.14374888532191904,\n",
              " 'all': 0.03495630461922596,\n",
              " 'also': 0.059337592714988625,\n",
              " 'an': 0.025749063670411985,\n",
              " 'and': 0.0038905770302844716,\n",
              " 'anyone': 0.07759531355036973,\n",
              " 'are': 0.016076058772687984,\n",
              " 'as': 0.014838594613875511,\n",
              " 'at': 0.02826328200860036,\n",
              " 'be': 0.02372034956304619,\n",
              " 'beautiful': 0.1677070328755722,\n",
              " 'because': 0.050374531835205995,\n",
              " 'being': 0.12578027465667915,\n",
              " 'best': 0.06758218893050352,\n",
              " 'better': 0.09170355237770968,\n",
              " 'but': 0.020121906440478815,\n",
              " 'by': 0.027701859162533322,\n",
              " 'can': 0.05309153032393719,\n",
              " 'cast': 0.11194340407823554,\n",
              " 'character': 0.0774032459425718,\n",
              " 'characters': 0.059484467944481166,\n",
              " 'do': 0.06320224719101124,\n",
              " 'enjoyed': 0.14392723381487427,\n",
              " 'ever': 0.059484467944481166,\n",
              " 'every': 0.06328027465667915,\n",
              " 'excellent': 0.11222083506727701,\n",
              " 'film': 0.0128002647293293,\n",
              " 'film,': 0.09159005788219272,\n",
              " 'film.': 0.056110417533638504,\n",
              " 'films': 0.09159005788219272,\n",
              " 'for': 0.012869715324979578,\n",
              " 'from': 0.030983997276132106,\n",
              " 'funny': 0.14392723381487427,\n",
              " 'give': 0.11194340407823554,\n",
              " 'good': 0.02726854589657665,\n",
              " 'great': 0.03330514276509202,\n",
              " 'had': 0.06724927174365376,\n",
              " 'has': 0.03404078235538909,\n",
              " 'have': 0.03171816479400749,\n",
              " 'he': 0.04407534060685013,\n",
              " 'her': 0.06741573033707865,\n",
              " 'his': 0.039085758186881786,\n",
              " 'i': 0.10074906367041199,\n",
              " 'if': 0.06296816479400749,\n",
              " 'in': 0.007906783187682063,\n",
              " 'into': 0.07187444266095952,\n",
              " 'is': 0.004409886880942547,\n",
              " 'it': 0.009492638706121851,\n",
              " \"it's\": 0.039085758186881786,\n",
              " 'it,': 0.10074906367041199,\n",
              " 'it.': 0.03408239700374532,\n",
              " 'its': 0.06320224719101124,\n",
              " 'job': 0.1677070328755722,\n",
              " 'just': 0.020790338607353052,\n",
              " 'like': 0.033832709113607994,\n",
              " 'liked': 0.11222083506727701,\n",
              " 'love': 0.07788341496206665,\n",
              " 'loved': 0.14392723381487427,\n",
              " 'made': 0.05322294500295683,\n",
              " 'makes': 0.14374888532191904,\n",
              " 'many': 0.09159005788219272,\n",
              " 'more': 0.04244694132334582,\n",
              " 'most': 0.037684376011467145,\n",
              " 'movie': 0.009605110728706233,\n",
              " 'movie.': 0.04579502894109636,\n",
              " 'movies': 0.0776913473542687,\n",
              " 'my': 0.03913377508883127,\n",
              " 'not': 0.021595346242728505,\n",
              " 'of': 0.00412978586455512,\n",
              " 'on': 0.020121906440478815,\n",
              " 'one': 0.024068751270214555,\n",
              " 'or': 0.032620514679231605,\n",
              " 'other': 0.05335435968197647,\n",
              " 'out': 0.03773061450964073,\n",
              " 'over': 0.10074906367041199,\n",
              " 'people': 0.09170355237770968,\n",
              " 'real': 0.07205279115391475,\n",
              " 'really': 0.03187421972534332,\n",
              " 'say': 0.08395755305867665,\n",
              " 'see': 0.03898972438298281,\n",
              " 'so': 0.02496878901373283,\n",
              " 'some': 0.04815409309791332,\n",
              " 'story': 0.07749927974647076,\n",
              " 'than': 0.04590852343661332,\n",
              " 'that': 0.008971836052392138,\n",
              " 'the': 0.002599090318388564,\n",
              " 'them': 0.09147656338667576,\n",
              " 'there': 0.03889369057908384,\n",
              " 'they': 0.05309153032393719,\n",
              " 'think': 0.06343632958801498,\n",
              " 'this': 0.006819600499375781,\n",
              " 'through': 0.1118046885837148,\n",
              " 'to': 0.0057852941555014996,\n",
              " 'up': 0.09147656338667576,\n",
              " 'very': 0.02021982326014051,\n",
              " 'was': 0.00687834474422895,\n",
              " 'watching': 0.06716604244694133,\n",
              " 'way': 0.0774032459425718,\n",
              " 'well': 0.06758218893050352,\n",
              " 'well.': 0.14392723381487427,\n",
              " 'were': 0.033957553058676655,\n",
              " 'what': 0.07759531355036973,\n",
              " 'when': 0.05631849077541961,\n",
              " 'which': 0.05624913302815924,\n",
              " 'who': 0.036338505439629035,\n",
              " 'will': 0.0840615896795672,\n",
              " 'with': 0.01599923172956881,\n",
              " 'wonderful': 0.10112359550561797,\n",
              " 'worth': 0.0840615896795672,\n",
              " 'you': 0.023181250709340597,\n",
              " 'your': 0.0559023442918574}"
            ]
          },
          "metadata": {
            "tags": []
          },
          "execution_count": 1750
        }
      ]
    },
    {
      "cell_type": "code",
      "metadata": {
        "colab": {
          "base_uri": "https://localhost:8080/"
        },
        "id": "kjp8vjoTkfuA",
        "outputId": "22e17a83-9c75-4f59-f182-579920b1987b"
      },
      "source": [
        "neg"
      ],
      "execution_count": 1751,
      "outputs": [
        {
          "output_type": "execute_result",
          "data": {
            "text/plain": [
              "{'-': 0.03660602817906189,\n",
              " 'A': 0.06289013732833958,\n",
              " 'And': 0.0838535164377861,\n",
              " 'But': 0.044238180535200566,\n",
              " 'Even': 0.14392723381487427,\n",
              " 'I': 0.005430105571918598,\n",
              " \"I'm\": 0.12578027465667915,\n",
              " 'If': 0.07196361690743713,\n",
              " 'It': 0.021860971657768215,\n",
              " \"It's\": 0.048094643600261576,\n",
              " 'Not': 0.12593632958801498,\n",
              " 'The': 0.007789558826115242,\n",
              " 'There': 0.06328027465667915,\n",
              " 'This': 0.016151685393258425,\n",
              " 'a': 0.0036332293611314034,\n",
              " 'about': 0.02992582800910627,\n",
              " 'acting': 0.04244694132334582,\n",
              " 'all': 0.035171552800378834,\n",
              " 'also': 0.059411030329734896,\n",
              " 'am': 0.12578027465667915,\n",
              " 'an': 0.025436953807740328,\n",
              " 'and': 0.0036393187760582293,\n",
              " 'any': 0.06749895963379109,\n",
              " 'are': 0.015903197925669837,\n",
              " 'as': 0.014945603709648654,\n",
              " 'at': 0.02847135525038147,\n",
              " 'bad': 0.033385687245781476,\n",
              " 'bad.': 0.08447773616312941,\n",
              " 'be': 0.023981650843422464,\n",
              " 'because': 0.050749063670411994,\n",
              " 'been': 0.09181704687322664,\n",
              " 'but': 0.02029326087488678,\n",
              " 'by': 0.027533151128656747,\n",
              " 'can': 0.05328865234246665,\n",
              " \"can't\": 0.1677070328755722,\n",
              " 'character': 0.07749927974647076,\n",
              " 'characters': 0.059264155100242355,\n",
              " 'could': 0.06749895963379109,\n",
              " \"didn't\": 0.05992509363295881,\n",
              " 'do': 0.06289013732833958,\n",
              " \"doesn't\": 0.10062421972534333,\n",
              " \"don't\": 0.06741573033707865,\n",
              " 'enough': 0.12578027465667915,\n",
              " 'even': 0.04094881398252184,\n",
              " 'ever': 0.059264155100242355,\n",
              " 'film': 0.012514477385196215,\n",
              " 'film.': 0.056110417533638504,\n",
              " 'for': 0.013039256484949371,\n",
              " 'from': 0.030794839783603832,\n",
              " 'get': 0.07759531355036973,\n",
              " 'good': 0.026545765161968594,\n",
              " 'had': 0.06716604244694133,\n",
              " 'half': 0.1677070328755722,\n",
              " 'has': 0.03379109446525176,\n",
              " 'have': 0.03195224719101124,\n",
              " 'he': 0.04402106063073332,\n",
              " 'here': 0.1118046885837148,\n",
              " 'his': 0.03898972438298281,\n",
              " 'how': 0.050873907615480655,\n",
              " 'if': 0.06312421972534332,\n",
              " 'in': 0.007816316560820713,\n",
              " 'into': 0.07205279115391475,\n",
              " 'is': 0.004433621471259784,\n",
              " 'it': 0.009751324358065932,\n",
              " \"it's\": 0.03898972438298281,\n",
              " 'it.': 0.03374947981689554,\n",
              " 'its': 0.06289013732833958,\n",
              " 'just': 0.02122347066167291,\n",
              " 'like': 0.033999167707032873,\n",
              " 'little': 0.07223113964686997,\n",
              " 'look': 0.08395755305867665,\n",
              " 'made': 0.05315723766344701,\n",
              " 'make': 0.05652656401720072,\n",
              " 'me': 0.07778738115816768,\n",
              " 'more': 0.0420307948397836,\n",
              " 'most': 0.037545660516946404,\n",
              " 'movie': 0.009638852335481549,\n",
              " 'movie.': 0.04624900692316423,\n",
              " 'much': 0.08426966292134831,\n",
              " 'my': 0.03894170748103332,\n",
              " 'no': 0.044455300439667805,\n",
              " 'not': 0.022153159614311895,\n",
              " 'of': 0.004030429091663103,\n",
              " 'on': 0.02029326087488678,\n",
              " 'one': 0.023633249136254104,\n",
              " 'only': 0.044455300439667805,\n",
              " 'or': 0.03306350932302364,\n",
              " 'other': 0.053025822984427366,\n",
              " 'out': 0.03749942201877283,\n",
              " 'piece': 0.11194340407823554,\n",
              " 'plot': 0.06359238451935081,\n",
              " 'poor': 0.1677070328755722,\n",
              " 'real': 0.07187444266095952,\n",
              " 'really': 0.03179619225967541,\n",
              " 'scenes': 0.0840615896795672,\n",
              " 'script': 0.12593632958801498,\n",
              " 'see': 0.039085758186881786,\n",
              " 'show': 0.10074906367041199,\n",
              " 'so': 0.02499923875643251,\n",
              " 'some': 0.04821354259556506,\n",
              " 'story': 0.0774032459425718,\n",
              " 'stupid': 0.14392723381487427,\n",
              " 'than': 0.04613551242764726,\n",
              " 'that': 0.009204595949977782,\n",
              " 'the': 0.0025431173995468623,\n",
              " 'there': 0.03918179199078076,\n",
              " 'they': 0.05328865234246665,\n",
              " 'thing': 0.12593632958801498,\n",
              " 'this': 0.006913233458177279,\n",
              " 'time': 0.05963134317397371,\n",
              " 'to': 0.005759553135899712,\n",
              " 'too': 0.09181704687322664,\n",
              " 'totally': 0.09170355237770968,\n",
              " 'very': 0.020195344055225085,\n",
              " 'was': 0.007093044522372512,\n",
              " 'waste': 0.12609238451935081,\n",
              " 'watching': 0.06724927174365376,\n",
              " 'way': 0.07749927974647076,\n",
              " 'were': 0.03387432376196421,\n",
              " 'when': 0.0559023442918574,\n",
              " 'which': 0.05597170203911777,\n",
              " 'who': 0.03624933119315142,\n",
              " 'whole': 0.1677070328755722,\n",
              " 'with': 0.015980024968789017,\n",
              " 'work': 0.10087390761548065,\n",
              " 'worse': 0.14392723381487427,\n",
              " 'would': 0.04647599591419816,\n",
              " 'you': 0.023464986948133013,\n",
              " 'your': 0.05631849077541961}"
            ]
          },
          "metadata": {
            "tags": []
          },
          "execution_count": 1751
        }
      ]
    },
    {
      "cell_type": "code",
      "metadata": {
        "id": "I9vPFQ7Ykibp"
      },
      "source": [
        "df_pos = pd.DataFrame.from_dict(pos, orient='index')\n",
        "df_neg = pd.DataFrame.from_dict(neg, orient='index')"
      ],
      "execution_count": 1752,
      "outputs": []
    },
    {
      "cell_type": "code",
      "metadata": {
        "colab": {
          "base_uri": "https://localhost:8080/",
          "height": 352
        },
        "id": "HIb8UmGzkoA7",
        "outputId": "60ba8004-ad99-4790-b2a6-fb4aca54fe8d"
      },
      "source": [
        "df_pos.sort_values(by=0,ascending=False).head(10)"
      ],
      "execution_count": 1753,
      "outputs": [
        {
          "output_type": "execute_result",
          "data": {
            "text/html": [
              "<div>\n",
              "<style scoped>\n",
              "    .dataframe tbody tr th:only-of-type {\n",
              "        vertical-align: middle;\n",
              "    }\n",
              "\n",
              "    .dataframe tbody tr th {\n",
              "        vertical-align: top;\n",
              "    }\n",
              "\n",
              "    .dataframe thead th {\n",
              "        text-align: right;\n",
              "    }\n",
              "</style>\n",
              "<table border=\"1\" class=\"dataframe\">\n",
              "  <thead>\n",
              "    <tr style=\"text-align: right;\">\n",
              "      <th></th>\n",
              "      <th>0</th>\n",
              "    </tr>\n",
              "  </thead>\n",
              "  <tbody>\n",
              "    <tr>\n",
              "      <th>job</th>\n",
              "      <td>0.167707</td>\n",
              "    </tr>\n",
              "    <tr>\n",
              "      <th>beautiful</th>\n",
              "      <td>0.167707</td>\n",
              "    </tr>\n",
              "    <tr>\n",
              "      <th>well.</th>\n",
              "      <td>0.143927</td>\n",
              "    </tr>\n",
              "    <tr>\n",
              "      <th>enjoyed</th>\n",
              "      <td>0.143927</td>\n",
              "    </tr>\n",
              "    <tr>\n",
              "      <th>funny</th>\n",
              "      <td>0.143927</td>\n",
              "    </tr>\n",
              "    <tr>\n",
              "      <th>loved</th>\n",
              "      <td>0.143927</td>\n",
              "    </tr>\n",
              "    <tr>\n",
              "      <th>makes</th>\n",
              "      <td>0.143749</td>\n",
              "    </tr>\n",
              "    <tr>\n",
              "      <th>actually</th>\n",
              "      <td>0.143749</td>\n",
              "    </tr>\n",
              "    <tr>\n",
              "      <th>John</th>\n",
              "      <td>0.143749</td>\n",
              "    </tr>\n",
              "    <tr>\n",
              "      <th>being</th>\n",
              "      <td>0.125780</td>\n",
              "    </tr>\n",
              "  </tbody>\n",
              "</table>\n",
              "</div>"
            ],
            "text/plain": [
              "                  0\n",
              "job        0.167707\n",
              "beautiful  0.167707\n",
              "well.      0.143927\n",
              "enjoyed    0.143927\n",
              "funny      0.143927\n",
              "loved      0.143927\n",
              "makes      0.143749\n",
              "actually   0.143749\n",
              "John       0.143749\n",
              "being      0.125780"
            ]
          },
          "metadata": {
            "tags": []
          },
          "execution_count": 1753
        }
      ]
    },
    {
      "cell_type": "code",
      "metadata": {
        "colab": {
          "base_uri": "https://localhost:8080/",
          "height": 352
        },
        "id": "38_3l-s7kpsH",
        "outputId": "1775eb66-8be4-43dc-bbb0-01a5917d66cf"
      },
      "source": [
        "df_neg.sort_values(by=0,ascending=False).head(10)"
      ],
      "execution_count": 1754,
      "outputs": [
        {
          "output_type": "execute_result",
          "data": {
            "text/html": [
              "<div>\n",
              "<style scoped>\n",
              "    .dataframe tbody tr th:only-of-type {\n",
              "        vertical-align: middle;\n",
              "    }\n",
              "\n",
              "    .dataframe tbody tr th {\n",
              "        vertical-align: top;\n",
              "    }\n",
              "\n",
              "    .dataframe thead th {\n",
              "        text-align: right;\n",
              "    }\n",
              "</style>\n",
              "<table border=\"1\" class=\"dataframe\">\n",
              "  <thead>\n",
              "    <tr style=\"text-align: right;\">\n",
              "      <th></th>\n",
              "      <th>0</th>\n",
              "    </tr>\n",
              "  </thead>\n",
              "  <tbody>\n",
              "    <tr>\n",
              "      <th>poor</th>\n",
              "      <td>0.167707</td>\n",
              "    </tr>\n",
              "    <tr>\n",
              "      <th>can't</th>\n",
              "      <td>0.167707</td>\n",
              "    </tr>\n",
              "    <tr>\n",
              "      <th>whole</th>\n",
              "      <td>0.167707</td>\n",
              "    </tr>\n",
              "    <tr>\n",
              "      <th>half</th>\n",
              "      <td>0.167707</td>\n",
              "    </tr>\n",
              "    <tr>\n",
              "      <th>Even</th>\n",
              "      <td>0.143927</td>\n",
              "    </tr>\n",
              "    <tr>\n",
              "      <th>worse</th>\n",
              "      <td>0.143927</td>\n",
              "    </tr>\n",
              "    <tr>\n",
              "      <th>stupid</th>\n",
              "      <td>0.143927</td>\n",
              "    </tr>\n",
              "    <tr>\n",
              "      <th>waste</th>\n",
              "      <td>0.126092</td>\n",
              "    </tr>\n",
              "    <tr>\n",
              "      <th>Not</th>\n",
              "      <td>0.125936</td>\n",
              "    </tr>\n",
              "    <tr>\n",
              "      <th>script</th>\n",
              "      <td>0.125936</td>\n",
              "    </tr>\n",
              "  </tbody>\n",
              "</table>\n",
              "</div>"
            ],
            "text/plain": [
              "               0\n",
              "poor    0.167707\n",
              "can't   0.167707\n",
              "whole   0.167707\n",
              "half    0.167707\n",
              "Even    0.143927\n",
              "worse   0.143927\n",
              "stupid  0.143927\n",
              "waste   0.126092\n",
              "Not     0.125936\n",
              "script  0.125936"
            ]
          },
          "metadata": {
            "tags": []
          },
          "execution_count": 1754
        }
      ]
    },
    {
      "cell_type": "code",
      "metadata": {
        "colab": {
          "base_uri": "https://localhost:8080/"
        },
        "id": "sJ-lzfxMk1y-",
        "outputId": "0f72506d-0c92-4ab8-9e17-6c6329e74699"
      },
      "source": [
        "testscore = cross_valid(test_set,5,1)\n",
        "print(\"Accuracy on test data with smoothing with alpha 1 : {} %\".format(np.mean(testscore)))"
      ],
      "execution_count": 1755,
      "outputs": [
        {
          "output_type": "stream",
          "text": [
            "Accuracy on test data with smoothing with alpha 1 : 31.0 %\n"
          ],
          "name": "stdout"
        }
      ]
    }
  ]
}