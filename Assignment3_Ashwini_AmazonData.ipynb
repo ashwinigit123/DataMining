{
  "nbformat": 4,
  "nbformat_minor": 0,
  "metadata": {
    "colab": {
      "name": "Assignment3_Ashwini_AmazonData.ipynb",
      "provenance": [],
      "collapsed_sections": [],
      "mount_file_id": "1ih3Nv-zSdKjmLfFoE3p961jKr6tF1rgI",
      "authorship_tag": "ABX9TyN0BcRnw3t4iNTv8P9UNdau",
      "include_colab_link": true
    },
    "kernelspec": {
      "name": "python3",
      "display_name": "Python 3"
    },
    "language_info": {
      "name": "python"
    }
  },
  "cells": [
    {
      "cell_type": "markdown",
      "metadata": {
        "id": "view-in-github",
        "colab_type": "text"
      },
      "source": [
        "<a href=\"https://colab.research.google.com/github/ashwinigit123/DataMining/blob/main/Assignment3_Ashwini_AmazonData.ipynb\" target=\"_parent\"><img src=\"https://colab.research.google.com/assets/colab-badge.svg\" alt=\"Open In Colab\"/></a>"
      ]
    },
    {
      "cell_type": "code",
      "metadata": {
        "colab": {
          "base_uri": "https://localhost:8080/",
          "height": 200
        },
        "id": "Yjztz5uCjn_S",
        "outputId": "98f5dd8e-c6f7-4562-bc25-8a2381945ac5"
      },
      "source": [
        "import pandas as pd\n",
        "#open the text file that needs to be read and converted to CSV\n",
        "#note: add the text file on drive to run\n",
        "imdb_file = open(r\"/content/drive/MyDrive/sentimentAnalysis/amazon_cells_labelled.txt\", \"r\")\n",
        "def convertTextToCSV(file):\n",
        "    lines=file.readlines()\n",
        "    file.close()\n",
        "    rev_sentiments=[]\n",
        "    for l in lines:\n",
        "        x=l.split('\\t')\n",
        "        rev_sentiments.append([str.lstrip(str.rstrip(x[0])),str.lstrip(str.rstrip(x[1]))])\n",
        "    return rev_sentiments\n",
        "\n",
        "rs_list=convertTextToCSV(imdb_file)\n",
        "review_sentiment_DF=pd.DataFrame(rs_list,columns=['REVIEW','SENTIMENT'])\n",
        "review_sentiment_DF.to_csv('amazon.csv', index = None)\n",
        "df = pd.read_csv('amazon.csv')\n",
        "df.head()"
      ],
      "execution_count": 1812,
      "outputs": [
        {
          "output_type": "execute_result",
          "data": {
            "text/html": [
              "<div>\n",
              "<style scoped>\n",
              "    .dataframe tbody tr th:only-of-type {\n",
              "        vertical-align: middle;\n",
              "    }\n",
              "\n",
              "    .dataframe tbody tr th {\n",
              "        vertical-align: top;\n",
              "    }\n",
              "\n",
              "    .dataframe thead th {\n",
              "        text-align: right;\n",
              "    }\n",
              "</style>\n",
              "<table border=\"1\" class=\"dataframe\">\n",
              "  <thead>\n",
              "    <tr style=\"text-align: right;\">\n",
              "      <th></th>\n",
              "      <th>REVIEW</th>\n",
              "      <th>SENTIMENT</th>\n",
              "    </tr>\n",
              "  </thead>\n",
              "  <tbody>\n",
              "    <tr>\n",
              "      <th>0</th>\n",
              "      <td>So there is no way for me to plug it in here i...</td>\n",
              "      <td>0</td>\n",
              "    </tr>\n",
              "    <tr>\n",
              "      <th>1</th>\n",
              "      <td>Good case, Excellent value.</td>\n",
              "      <td>1</td>\n",
              "    </tr>\n",
              "    <tr>\n",
              "      <th>2</th>\n",
              "      <td>Great for the jawbone.</td>\n",
              "      <td>1</td>\n",
              "    </tr>\n",
              "    <tr>\n",
              "      <th>3</th>\n",
              "      <td>Tied to charger for conversations lasting more...</td>\n",
              "      <td>0</td>\n",
              "    </tr>\n",
              "    <tr>\n",
              "      <th>4</th>\n",
              "      <td>The mic is great.</td>\n",
              "      <td>1</td>\n",
              "    </tr>\n",
              "  </tbody>\n",
              "</table>\n",
              "</div>"
            ],
            "text/plain": [
              "                                              REVIEW  SENTIMENT\n",
              "0  So there is no way for me to plug it in here i...          0\n",
              "1                        Good case, Excellent value.          1\n",
              "2                             Great for the jawbone.          1\n",
              "3  Tied to charger for conversations lasting more...          0\n",
              "4                                  The mic is great.          1"
            ]
          },
          "metadata": {
            "tags": []
          },
          "execution_count": 1812
        }
      ]
    },
    {
      "cell_type": "code",
      "metadata": {
        "colab": {
          "base_uri": "https://localhost:8080/",
          "height": 291
        },
        "id": "Z6FZdCCch6xi",
        "outputId": "050531df-dbab-4a09-f0e9-4f77b13049c2"
      },
      "source": [
        "df.describe()"
      ],
      "execution_count": 1813,
      "outputs": [
        {
          "output_type": "execute_result",
          "data": {
            "text/html": [
              "<div>\n",
              "<style scoped>\n",
              "    .dataframe tbody tr th:only-of-type {\n",
              "        vertical-align: middle;\n",
              "    }\n",
              "\n",
              "    .dataframe tbody tr th {\n",
              "        vertical-align: top;\n",
              "    }\n",
              "\n",
              "    .dataframe thead th {\n",
              "        text-align: right;\n",
              "    }\n",
              "</style>\n",
              "<table border=\"1\" class=\"dataframe\">\n",
              "  <thead>\n",
              "    <tr style=\"text-align: right;\">\n",
              "      <th></th>\n",
              "      <th>SENTIMENT</th>\n",
              "    </tr>\n",
              "  </thead>\n",
              "  <tbody>\n",
              "    <tr>\n",
              "      <th>count</th>\n",
              "      <td>1000.00000</td>\n",
              "    </tr>\n",
              "    <tr>\n",
              "      <th>mean</th>\n",
              "      <td>0.50000</td>\n",
              "    </tr>\n",
              "    <tr>\n",
              "      <th>std</th>\n",
              "      <td>0.50025</td>\n",
              "    </tr>\n",
              "    <tr>\n",
              "      <th>min</th>\n",
              "      <td>0.00000</td>\n",
              "    </tr>\n",
              "    <tr>\n",
              "      <th>25%</th>\n",
              "      <td>0.00000</td>\n",
              "    </tr>\n",
              "    <tr>\n",
              "      <th>50%</th>\n",
              "      <td>0.50000</td>\n",
              "    </tr>\n",
              "    <tr>\n",
              "      <th>75%</th>\n",
              "      <td>1.00000</td>\n",
              "    </tr>\n",
              "    <tr>\n",
              "      <th>max</th>\n",
              "      <td>1.00000</td>\n",
              "    </tr>\n",
              "  </tbody>\n",
              "</table>\n",
              "</div>"
            ],
            "text/plain": [
              "        SENTIMENT\n",
              "count  1000.00000\n",
              "mean      0.50000\n",
              "std       0.50025\n",
              "min       0.00000\n",
              "25%       0.00000\n",
              "50%       0.50000\n",
              "75%       1.00000\n",
              "max       1.00000"
            ]
          },
          "metadata": {
            "tags": []
          },
          "execution_count": 1813
        }
      ]
    },
    {
      "cell_type": "code",
      "metadata": {
        "colab": {
          "base_uri": "https://localhost:8080/",
          "height": 276
        },
        "id": "0KRNjz5x8vSZ",
        "outputId": "6fce6e0a-3d62-46f3-e178-7a8d6c0942b9"
      },
      "source": [
        "import matplotlib.pyplot as plt\n",
        "\n",
        "review_sentiment_DF.groupby('SENTIMENT').REVIEW.count().plot.bar(ylim=0)\n",
        "plt.show()\n"
      ],
      "execution_count": 1814,
      "outputs": [
        {
          "output_type": "display_data",
          "data": {
            "image/png": "[encoded data removed]",
            "text/plain": [
              "<Figure size 432x288 with 1 Axes>"
            ]
          },
          "metadata": {
            "tags": [],
            "needs_background": "light"
          }
        }
      ]
    },
    {
      "cell_type": "code",
      "metadata": {
        "colab": {
          "base_uri": "https://localhost:8080/"
        },
        "id": "9zdOoK_Ll4Nn",
        "outputId": "e14f2469-1a25-4bbd-8115-830cc3340300"
      },
      "source": [
        "train_split = int(0.8 * len(df))\n",
        "print(train_split)\n",
        "dev_split = int(0.9 * len(df))\n",
        "print(dev_split)\n",
        "train_set = review_sentiment_DF[:train_split]\n",
        "dev_set = review_sentiment_DF[train_split:dev_split]\n",
        "test_set = review_sentiment_DF[dev_split:]"
      ],
      "execution_count": 1815,
      "outputs": [
        {
          "output_type": "stream",
          "text": [
            "800\n",
            "900\n"
          ],
          "name": "stdout"
        }
      ]
    },
    {
      "cell_type": "code",
      "metadata": {
        "colab": {
          "base_uri": "https://localhost:8080/",
          "height": 200
        },
        "id": "D5MJbohwm0Dr",
        "outputId": "267901a3-be22-48db-9e4a-3e8b4717401d"
      },
      "source": [
        "train_set.head(5)"
      ],
      "execution_count": 1816,
      "outputs": [
        {
          "output_type": "execute_result",
          "data": {
            "text/html": [
              "<div>\n",
              "<style scoped>\n",
              "    .dataframe tbody tr th:only-of-type {\n",
              "        vertical-align: middle;\n",
              "    }\n",
              "\n",
              "    .dataframe tbody tr th {\n",
              "        vertical-align: top;\n",
              "    }\n",
              "\n",
              "    .dataframe thead th {\n",
              "        text-align: right;\n",
              "    }\n",
              "</style>\n",
              "<table border=\"1\" class=\"dataframe\">\n",
              "  <thead>\n",
              "    <tr style=\"text-align: right;\">\n",
              "      <th></th>\n",
              "      <th>REVIEW</th>\n",
              "      <th>SENTIMENT</th>\n",
              "    </tr>\n",
              "  </thead>\n",
              "  <tbody>\n",
              "    <tr>\n",
              "      <th>0</th>\n",
              "      <td>So there is no way for me to plug it in here i...</td>\n",
              "      <td>0</td>\n",
              "    </tr>\n",
              "    <tr>\n",
              "      <th>1</th>\n",
              "      <td>Good case, Excellent value.</td>\n",
              "      <td>1</td>\n",
              "    </tr>\n",
              "    <tr>\n",
              "      <th>2</th>\n",
              "      <td>Great for the jawbone.</td>\n",
              "      <td>1</td>\n",
              "    </tr>\n",
              "    <tr>\n",
              "      <th>3</th>\n",
              "      <td>Tied to charger for conversations lasting more...</td>\n",
              "      <td>0</td>\n",
              "    </tr>\n",
              "    <tr>\n",
              "      <th>4</th>\n",
              "      <td>The mic is great.</td>\n",
              "      <td>1</td>\n",
              "    </tr>\n",
              "  </tbody>\n",
              "</table>\n",
              "</div>"
            ],
            "text/plain": [
              "                                              REVIEW SENTIMENT\n",
              "0  So there is no way for me to plug it in here i...         0\n",
              "1                        Good case, Excellent value.         1\n",
              "2                             Great for the jawbone.         1\n",
              "3  Tied to charger for conversations lasting more...         0\n",
              "4                                  The mic is great.         1"
            ]
          },
          "metadata": {
            "tags": []
          },
          "execution_count": 1816
        }
      ]
    },
    {
      "cell_type": "code",
      "metadata": {
        "colab": {
          "base_uri": "https://localhost:8080/",
          "height": 411
        },
        "id": "U7S4uGE4m8_W",
        "outputId": "a3fa4359-7502-4086-c02c-4e4e1c472f5a"
      },
      "source": [
        "dev_set"
      ],
      "execution_count": 1817,
      "outputs": [
        {
          "output_type": "execute_result",
          "data": {
            "text/html": [
              "<div>\n",
              "<style scoped>\n",
              "    .dataframe tbody tr th:only-of-type {\n",
              "        vertical-align: middle;\n",
              "    }\n",
              "\n",
              "    .dataframe tbody tr th {\n",
              "        vertical-align: top;\n",
              "    }\n",
              "\n",
              "    .dataframe thead th {\n",
              "        text-align: right;\n",
              "    }\n",
              "</style>\n",
              "<table border=\"1\" class=\"dataframe\">\n",
              "  <thead>\n",
              "    <tr style=\"text-align: right;\">\n",
              "      <th></th>\n",
              "      <th>REVIEW</th>\n",
              "      <th>SENTIMENT</th>\n",
              "    </tr>\n",
              "  </thead>\n",
              "  <tbody>\n",
              "    <tr>\n",
              "      <th>800</th>\n",
              "      <td>Good , works fine.</td>\n",
              "      <td>1</td>\n",
              "    </tr>\n",
              "    <tr>\n",
              "      <th>801</th>\n",
              "      <td>For the price this was a great deal.</td>\n",
              "      <td>1</td>\n",
              "    </tr>\n",
              "    <tr>\n",
              "      <th>802</th>\n",
              "      <td>Great price, too!</td>\n",
              "      <td>1</td>\n",
              "    </tr>\n",
              "    <tr>\n",
              "      <th>803</th>\n",
              "      <td>If there is a wind, it is completely useless.</td>\n",
              "      <td>0</td>\n",
              "    </tr>\n",
              "    <tr>\n",
              "      <th>804</th>\n",
              "      <td>Yes it's shiny on front side - and I love it!</td>\n",
              "      <td>1</td>\n",
              "    </tr>\n",
              "    <tr>\n",
              "      <th>...</th>\n",
              "      <td>...</td>\n",
              "      <td>...</td>\n",
              "    </tr>\n",
              "    <tr>\n",
              "      <th>895</th>\n",
              "      <td>It was quite comfortable in the ear.</td>\n",
              "      <td>1</td>\n",
              "    </tr>\n",
              "    <tr>\n",
              "      <th>896</th>\n",
              "      <td>Great phone.</td>\n",
              "      <td>1</td>\n",
              "    </tr>\n",
              "    <tr>\n",
              "      <th>897</th>\n",
              "      <td>Don't buy this product - It fails!.</td>\n",
              "      <td>0</td>\n",
              "    </tr>\n",
              "    <tr>\n",
              "      <th>898</th>\n",
              "      <td>Everything about this product is wrong.First</td>\n",
              "      <td>0</td>\n",
              "    </tr>\n",
              "    <tr>\n",
              "      <th>899</th>\n",
              "      <td>The pairing of the two devices was so easy it ...</td>\n",
              "      <td>1</td>\n",
              "    </tr>\n",
              "  </tbody>\n",
              "</table>\n",
              "<p>100 rows × 2 columns</p>\n",
              "</div>"
            ],
            "text/plain": [
              "                                                REVIEW SENTIMENT\n",
              "800                                 Good , works fine.         1\n",
              "801               For the price this was a great deal.         1\n",
              "802                                  Great price, too!         1\n",
              "803      If there is a wind, it is completely useless.         0\n",
              "804      Yes it's shiny on front side - and I love it!         1\n",
              "..                                                 ...       ...\n",
              "895               It was quite comfortable in the ear.         1\n",
              "896                                       Great phone.         1\n",
              "897                Don't buy this product - It fails!.         0\n",
              "898       Everything about this product is wrong.First         0\n",
              "899  The pairing of the two devices was so easy it ...         1\n",
              "\n",
              "[100 rows x 2 columns]"
            ]
          },
          "metadata": {
            "tags": []
          },
          "execution_count": 1817
        }
      ]
    },
    {
      "cell_type": "code",
      "metadata": {
        "colab": {
          "base_uri": "https://localhost:8080/",
          "height": 411
        },
        "id": "_Wwd6SK8m_x5",
        "outputId": "28e209c1-e8e8-472e-d326-013e3bc7bf88"
      },
      "source": [
        "test_set"
      ],
      "execution_count": 1818,
      "outputs": [
        {
          "output_type": "execute_result",
          "data": {
            "text/html": [
              "<div>\n",
              "<style scoped>\n",
              "    .dataframe tbody tr th:only-of-type {\n",
              "        vertical-align: middle;\n",
              "    }\n",
              "\n",
              "    .dataframe tbody tr th {\n",
              "        vertical-align: top;\n",
              "    }\n",
              "\n",
              "    .dataframe thead th {\n",
              "        text-align: right;\n",
              "    }\n",
              "</style>\n",
              "<table border=\"1\" class=\"dataframe\">\n",
              "  <thead>\n",
              "    <tr style=\"text-align: right;\">\n",
              "      <th></th>\n",
              "      <th>REVIEW</th>\n",
              "      <th>SENTIMENT</th>\n",
              "    </tr>\n",
              "  </thead>\n",
              "  <tbody>\n",
              "    <tr>\n",
              "      <th>900</th>\n",
              "      <td>This was utterly confusing at first, which cau...</td>\n",
              "      <td>0</td>\n",
              "    </tr>\n",
              "    <tr>\n",
              "      <th>901</th>\n",
              "      <td>Terrible phone holder.</td>\n",
              "      <td>0</td>\n",
              "    </tr>\n",
              "    <tr>\n",
              "      <th>902</th>\n",
              "      <td>The cutouts and buttons are placed perfectly.</td>\n",
              "      <td>1</td>\n",
              "    </tr>\n",
              "    <tr>\n",
              "      <th>903</th>\n",
              "      <td>I love being able to use one headset for both ...</td>\n",
              "      <td>1</td>\n",
              "    </tr>\n",
              "    <tr>\n",
              "      <th>904</th>\n",
              "      <td>Problem is that the ear loops are made of weak...</td>\n",
              "      <td>0</td>\n",
              "    </tr>\n",
              "    <tr>\n",
              "      <th>...</th>\n",
              "      <td>...</td>\n",
              "      <td>...</td>\n",
              "    </tr>\n",
              "    <tr>\n",
              "      <th>995</th>\n",
              "      <td>The screen does get smudged easily because it ...</td>\n",
              "      <td>0</td>\n",
              "    </tr>\n",
              "    <tr>\n",
              "      <th>996</th>\n",
              "      <td>What a piece of junk.. I lose more calls on th...</td>\n",
              "      <td>0</td>\n",
              "    </tr>\n",
              "    <tr>\n",
              "      <th>997</th>\n",
              "      <td>Item Does Not Match Picture.</td>\n",
              "      <td>0</td>\n",
              "    </tr>\n",
              "    <tr>\n",
              "      <th>998</th>\n",
              "      <td>The only thing that disappoint me is the infra...</td>\n",
              "      <td>0</td>\n",
              "    </tr>\n",
              "    <tr>\n",
              "      <th>999</th>\n",
              "      <td>You can not answer calls with the unit, never ...</td>\n",
              "      <td>0</td>\n",
              "    </tr>\n",
              "  </tbody>\n",
              "</table>\n",
              "<p>100 rows × 2 columns</p>\n",
              "</div>"
            ],
            "text/plain": [
              "                                                REVIEW SENTIMENT\n",
              "900  This was utterly confusing at first, which cau...         0\n",
              "901                             Terrible phone holder.         0\n",
              "902      The cutouts and buttons are placed perfectly.         1\n",
              "903  I love being able to use one headset for both ...         1\n",
              "904  Problem is that the ear loops are made of weak...         0\n",
              "..                                                 ...       ...\n",
              "995  The screen does get smudged easily because it ...         0\n",
              "996  What a piece of junk.. I lose more calls on th...         0\n",
              "997                       Item Does Not Match Picture.         0\n",
              "998  The only thing that disappoint me is the infra...         0\n",
              "999  You can not answer calls with the unit, never ...         0\n",
              "\n",
              "[100 rows x 2 columns]"
            ]
          },
          "metadata": {
            "tags": []
          },
          "execution_count": 1818
        }
      ]
    },
    {
      "cell_type": "code",
      "metadata": {
        "id": "DlBHgS3E86bR"
      },
      "source": [
        "#Calculating the probability of any word in the given document.\n",
        "def wordProbabiltity(data,word,numofDoc):\n",
        "    data_dictionary=dict(data)\n",
        "    if word in data_dictionary.keys():\n",
        "        return data_dictionary[word] / numofDoc\n",
        "    else: return 0"
      ],
      "execution_count": 1819,
      "outputs": []
    },
    {
      "cell_type": "code",
      "metadata": {
        "id": "J2yVpED-Xtpw"
      },
      "source": [
        "from collections import Counter\n",
        "#calculating the uniquewords and building the vocabulary by ommitting rare words(Words occuring less than 5 times)\n",
        "def countUniqueWords(data):\n",
        "    reviews = data\n",
        "    vocab = []\n",
        "    for review in reviews:\n",
        "        for word in review.split(' '):\n",
        "                vocab.append(word)\n",
        "    vocab = Counter(vocab)\n",
        "    vocab = Counter({k: v for k, v in vocab.items() if v > 5}) #removing rare word if occuring less than 5 times.\n",
        "    return vocab\n"
      ],
      "execution_count": 1820,
      "outputs": []
    },
    {
      "cell_type": "code",
      "metadata": {
        "id": "OoHfhS5wZGnL"
      },
      "source": [
        "uniqueWordcount = countUniqueWords(list(list(zip(*review_sentiment_DF.values))[0]))"
      ],
      "execution_count": 1821,
      "outputs": []
    },
    {
      "cell_type": "code",
      "metadata": {
        "colab": {
          "base_uri": "https://localhost:8080/"
        },
        "id": "em8eSZ-2ZjIa",
        "outputId": "e6c47ca8-d1b0-419d-e218-259ac9695c2d"
      },
      "source": [
        "print(\"The P['the'] in the given number of documents: \",wordProbabiltity(uniqueWordcount,'the',len(review_sentiment_DF)))"
      ],
      "execution_count": 1822,
      "outputs": [
        {
          "output_type": "stream",
          "text": [
            "The P['the'] in the given number of documents:  0.414\n"
          ],
          "name": "stdout"
        }
      ]
    },
    {
      "cell_type": "code",
      "metadata": {
        "colab": {
          "base_uri": "https://localhost:8080/"
        },
        "id": "4YF4PVxYqkss",
        "outputId": "cdf2ccf9-cba7-4725-d146-82143d46262f"
      },
      "source": [
        "print(\"The P['a'] in the given number of documents: \",wordProbabiltity(uniqueWordcount,'a',len(review_sentiment_DF)))"
      ],
      "execution_count": 1823,
      "outputs": [
        {
          "output_type": "stream",
          "text": [
            "The P['a'] in the given number of documents:  0.207\n"
          ],
          "name": "stdout"
        }
      ]
    },
    {
      "cell_type": "code",
      "metadata": {
        "id": "Dpc_tVHPaPZU"
      },
      "source": [
        "import numpy as np\n",
        "#calculate the conditional Probability of given words based on sentiments\n",
        "def calulateConditionalProbabilty(A,B,word,givenSentiment):\n",
        "    #Grouping the Similar sentiments together \n",
        "    sentimentGroup = np.unique(B)\n",
        "    dictionary = dict()\n",
        "    #creating a dictionary of of sentiments.\n",
        "    for sentiment in sentimentGroup:\n",
        "        dictionary[sentiment] = A[np.where(B == sentiment)]\n",
        "\n",
        "    #Counting postive words and negative words\n",
        "    countPostivewords = dict(countUniqueWords(dictionary['1']))\n",
        "    countNegativeWords = dict(countUniqueWords(dictionary['0']))\n",
        "    \n",
        "    #caculating the probabilty for the given sentiment\n",
        "    if givenSentiment == '1':\n",
        "        if word in countPostivewords.keys():\n",
        "            return countPostivewords[word]/ len(dictionary['1'])\n",
        "        else: return 0\n",
        "    else:\n",
        "        if word in countNegativeWords.keys():\n",
        "            return countNegativeWords[word]/ len(dictionary['0'])\n",
        "        else: return 0\n"
      ],
      "execution_count": 1824,
      "outputs": []
    },
    {
      "cell_type": "code",
      "metadata": {
        "colab": {
          "base_uri": "https://localhost:8080/"
        },
        "id": "3BUoNLTQaR6Z",
        "outputId": "9085c006-8e6c-4ec0-e0ec-38f207d0f5f2"
      },
      "source": [
        "#caculating the conditional probability for the given sentiment is 1.\n",
        "A = train_set['REVIEW'].values\n",
        "B = train_set['SENTIMENT'].values\n",
        "\n",
        "print(\" The P['the'|positive] is:\", calulateConditionalProbabilty(A,B,'the','1'))\n"
      ],
      "execution_count": 1825,
      "outputs": [
        {
          "output_type": "stream",
          "text": [
            " The P['the'|positive] is: 0.38141809290953543\n"
          ],
          "name": "stdout"
        }
      ]
    },
    {
      "cell_type": "code",
      "metadata": {
        "id": "N4Pm7Xf6zr1R"
      },
      "source": [
        "#Calculating the probability of each sentiment\n",
        "def probabilityOfSentiment(sentiment,dataset):\n",
        "  return list(dataset).count(sentiment) / len(list(dataset))"
      ],
      "execution_count": 1826,
      "outputs": []
    },
    {
      "cell_type": "code",
      "metadata": {
        "id": "iOPpIavxcfcu"
      },
      "source": [
        "#defining the naive bayes classifer\n",
        "class NaiveBayes:\n",
        "    def __init__(self,X,y,test,alpha,flag):\n",
        "        self.alpha = alpha\n",
        "        self.X = X\n",
        "        self.y = y\n",
        "        self.test = test\n",
        "        self.sentiment = np.unique(y)\n",
        "        self.flag = flag\n",
        "        \n",
        "    def naiveBayesAlgo(self,word,sentiment):\n",
        "        probWordGivenSentiment = calulateConditionalProbabilty(self.X,self.y,word,sentiment)\n",
        "        \n",
        "        probOfSentiment = probabilityOfSentiment(sentiment,self.y)\n",
        "        \n",
        "        countUniqueWordsInDataset = countUniqueWords(list(self.X))\n",
        "        probOfWordOccur = wordProbabiltity(countUniqueWordsInDataset,word,len(self.X))\n",
        "        \n",
        "        if probOfWordOccur == 0:\n",
        "            probOfWordOccur = 0.0000001\n",
        "        if self.alpha == 0:\n",
        "            return (probWordGivenSentiment*probOfSentiment)/probOfWordOccur  #withouth smoothing\n",
        "        else:\n",
        "            if word in self.wordcount.keys():\n",
        "                count = self.wordcount[word]\n",
        "            else: count = 1\n",
        "            return ((probWordGivenSentiment*probOfSentiment) + self.alpha) / (probOfWordOccur + count) #with smoothing\n",
        "        \n",
        "        \n",
        "    def NaiveBayespredict(self):\n",
        "        result = 1\n",
        "        y_pred = []\n",
        "        positive = 0\n",
        "        negative = 0\n",
        "        self.separated = dict()\n",
        "        posdict = dict()\n",
        "        negdict = dict()\n",
        "        \n",
        "        self.wordcount = dict(countUniqueWords(self.X)) #vocab list\n",
        "        \n",
        "        for i in self.sentiment:\n",
        "            self.separated[i] = self.X[np.where(self.y == i)] \n",
        "        self.countpos = dict(countUniqueWords(self.separated['1']))\n",
        "        self.countneg = dict(countUniqueWords(self.separated['0']))\n",
        "        \n",
        "        if self.flag != True:\n",
        "            for review in self.test:\n",
        "                for senti in self.sentiment:\n",
        "                    for word in review.split():\n",
        "                        prob = self.naiveBayesAlgo(word,senti)\n",
        "                        result = result * prob\n",
        "                    if senti == 1:\n",
        "                        positive = result\n",
        "                    else:\n",
        "                        negative = result\n",
        "\n",
        "                if positive > negative:\n",
        "                    y_pred.append('1')\n",
        "                else: y_pred.append('0')\n",
        "\n",
        "            return y_pred\n",
        "        else:\n",
        "            for word in self.countpos.keys(): \n",
        "                prob = self.naiveBayesAlgo(word,'1')\n",
        "                posdict[word] = prob\n",
        "            for word in self.countneg.keys(): \n",
        "                prob = self.naiveBayesAlgo(word,'0')\n",
        "                negdict[word] = prob\n",
        "            return posdict,negdict"
      ],
      "execution_count": 1827,
      "outputs": []
    },
    {
      "cell_type": "code",
      "metadata": {
        "id": "f4mEJOyFALcI"
      },
      "source": [
        "def calculateAccuracy(actual,predicted):\n",
        "    correctPredict = 0.0\n",
        "    for y_true, y_pred in zip(actual,predicted):\n",
        "        if y_true == y_pred:\n",
        "            correctPredict += 1\n",
        "    return correctPredict / float(len(actual)) * 100.0"
      ],
      "execution_count": 1828,
      "outputs": []
    },
    {
      "cell_type": "code",
      "metadata": {
        "id": "9c_G8j0sj1ip"
      },
      "source": [
        "def cross_valid(data,k,alpha):\n",
        "    devsize = 1/k\n",
        "    score = []\n",
        "    for i in range(1, k + 1):\n",
        "        devdata = data.sample(frac=devsize, random_state=i, replace=False).copy(deep=True)\n",
        "        traindata = data.drop(devdata.index, axis=0).copy(deep=True)\n",
        "        X_dev = devdata['REVIEW'].values\n",
        "        y_dev = devdata['SENTIMENT'].values\n",
        "        X_train = traindata['REVIEW'].values\n",
        "        y_train = traindata['SENTIMENT'].values\n",
        "        classifer = NaiveBayes(X_train,y_train,X_dev,alpha,flag= False)\n",
        "        ypred = np.array(classifer.NaiveBayespredict())\n",
        "        score.append(calculateAccuracy(y_dev,ypred))\n",
        "    return score"
      ],
      "execution_count": 1829,
      "outputs": []
    },
    {
      "cell_type": "code",
      "metadata": {
        "colab": {
          "base_uri": "https://localhost:8080/"
        },
        "id": "8dmkg5fBHStW",
        "outputId": "66f239b5-4a71-410d-bf7b-0fc7a0a73f5d"
      },
      "source": [
        "X_train = train_set['REVIEW'].values\n",
        "y_train = train_set['SENTIMENT'].values\n",
        "X_dev = dev_set['REVIEW'].values\n",
        "y_dev = dev_set['SENTIMENT'].values\n",
        "classifer = NaiveBayes(X_train,y_train,X_dev,0,0)\n",
        "ypred = classifer.NaiveBayespredict()\n",
        "ypred = np.array(ypred)\n",
        "print(\"Accuracy on the dev Dataset without smoothing is:\",calculateAccuracy(y_dev,ypred))"
      ],
      "execution_count": 1830,
      "outputs": [
        {
          "output_type": "stream",
          "text": [
            "Accuracy on the dev Dataset without smoothing is: 51.0\n"
          ],
          "name": "stdout"
        }
      ]
    },
    {
      "cell_type": "code",
      "metadata": {
        "colab": {
          "base_uri": "https://localhost:8080/"
        },
        "id": "_j1rVk7Hj3Dg",
        "outputId": "51ea8f2d-e477-4ec0-f954-7467895ffcb5"
      },
      "source": [
        "score = cross_valid(train_set,5,1)\n",
        "print(\"Accuracy on dev data with smoothing with alpha 1 : {} %\".format(np.mean(score)))"
      ],
      "execution_count": 1831,
      "outputs": [
        {
          "output_type": "stream",
          "text": [
            "Accuracy on dev data with smoothing with alpha 1 : 49.25 %\n"
          ],
          "name": "stdout"
        }
      ]
    },
    {
      "cell_type": "code",
      "metadata": {
        "colab": {
          "base_uri": "https://localhost:8080/"
        },
        "id": "RVVkbHT_kME6",
        "outputId": "229e9d74-48c9-4805-8fad-c3d627a177a1"
      },
      "source": [
        "score2 = cross_valid(train_set,5,0.001)\n",
        "print(\"Accuracy on dev data with smoothing with alpha 0.001 : {} %\".format(np.mean(score2)))"
      ],
      "execution_count": 1832,
      "outputs": [
        {
          "output_type": "stream",
          "text": [
            "Accuracy on dev data with smoothing with alpha 0.001 : 49.25 %\n"
          ],
          "name": "stdout"
        }
      ]
    },
    {
      "cell_type": "code",
      "metadata": {
        "id": "b4S8J1BVkVdP"
      },
      "source": [
        "positive=dict()\n",
        "wrodcount = dict(uniqueWordcount)\n",
        "classifer = NaiveBayes(X_train,y_train,0,1,flag=True)\n",
        "pos, neg = classifer.NaiveBayespredict()"
      ],
      "execution_count": 1833,
      "outputs": []
    },
    {
      "cell_type": "code",
      "metadata": {
        "colab": {
          "base_uri": "https://localhost:8080/"
        },
        "id": "WFNTi4ytkW6k",
        "outputId": "8256eb22-7ab9-40ff-f40d-5555c7f970d6"
      },
      "source": [
        "pos"
      ],
      "execution_count": 1834,
      "outputs": [
        {
          "output_type": "execute_result",
          "data": {
            "text/plain": [
              "{'-': 0.05335435968197647,\n",
              " '2': 0.06296816479400749,\n",
              " 'Battery': 0.10074906367041199,\n",
              " 'Excellent': 0.10099875156054931,\n",
              " 'Good': 0.11222083506727701,\n",
              " 'Great': 0.0382392379895501,\n",
              " 'I': 0.004711189202796915,\n",
              " \"I'm\": 0.07196361690743713,\n",
              " \"I've\": 0.03927782579467973,\n",
              " 'It': 0.02401068431901983,\n",
              " 'Nice': 0.12609238451935081,\n",
              " 'The': 0.012758442191163484,\n",
              " 'This': 0.023026772090442505,\n",
              " 'Very': 0.07214196540039236,\n",
              " 'Works': 0.09204403586426058,\n",
              " 'a': 0.006576600677724273,\n",
              " 'all': 0.04412962058296695,\n",
              " 'also': 0.09147656338667576,\n",
              " 'am': 0.059484467944481166,\n",
              " 'an': 0.06716604244694133,\n",
              " 'and': 0.004807498691152189,\n",
              " 'any': 0.06335830212234707,\n",
              " 'are': 0.030946165777626454,\n",
              " 'as': 0.029177813447476365,\n",
              " 'at': 0.059337592714988625,\n",
              " 'battery': 0.04407534060685013,\n",
              " 'be': 0.048035194102609834,\n",
              " 'because': 0.07749927974647076,\n",
              " 'been': 0.09181704687322664,\n",
              " 'best': 0.08447773616312941,\n",
              " 'but': 0.02826328200860036,\n",
              " 'camera': 0.12578027465667915,\n",
              " 'can': 0.08395755305867665,\n",
              " 'car': 0.0838535164377861,\n",
              " 'case': 0.0838535164377861,\n",
              " 'case.': 0.1677070328755722,\n",
              " 'cell': 0.1118046885837148,\n",
              " 'comfortable': 0.09170355237770968,\n",
              " 'device': 0.14374888532191904,\n",
              " 'ear': 0.0840615896795672,\n",
              " 'easy': 0.10074906367041199,\n",
              " 'even': 0.07759531355036973,\n",
              " 'excellent': 0.1677070328755722,\n",
              " 'fine': 0.1677070328755722,\n",
              " 'fits': 0.12593632958801498,\n",
              " 'for': 0.010952803840560124,\n",
              " 'found': 0.12578027465667915,\n",
              " 'from': 0.04054931335830212,\n",
              " 'good': 0.025334185926128922,\n",
              " 'got': 0.09170355237770968,\n",
              " 'great': 0.033466231726470945,\n",
              " 'great.': 0.05985165601821254,\n",
              " 'had': 0.03171816479400749,\n",
              " 'happy': 0.10099875156054931,\n",
              " 'has': 0.03796180700050863,\n",
              " 'have': 0.018113323258207942,\n",
              " 'headset': 0.0483918910885203,\n",
              " 'highly': 0.12593632958801498,\n",
              " 'in': 0.014109075983787389,\n",
              " 'is': 0.005913999253510431,\n",
              " 'it': 0.007706194594885888,\n",
              " \"it's\": 0.10062421972534333,\n",
              " 'it.': 0.04590852343661332,\n",
              " 'just': 0.06716604244694133,\n",
              " 'like': 0.04069912609238452,\n",
              " 'love': 0.07258783663278046,\n",
              " 'my': 0.010215595889753194,\n",
              " 'new': 0.07205279115391475,\n",
              " 'nice': 0.11222083506727701,\n",
              " 'no': 0.06304619225967541,\n",
              " 'not': 0.014044943820224717,\n",
              " 'of': 0.011610486891385767,\n",
              " 'on': 0.015521642722716009,\n",
              " 'one': 0.03782309150598788,\n",
              " 'or': 0.04579502894109636,\n",
              " 'people': 0.12578027465667915,\n",
              " 'phone': 0.011397044017558698,\n",
              " 'phone.': 0.04613551242764726,\n",
              " 'pretty': 0.1677070328755722,\n",
              " 'price': 0.11208211957275627,\n",
              " 'price.': 0.12609238451935081,\n",
              " 'product': 0.05617977528089887,\n",
              " 'product.': 0.06724927174365376,\n",
              " 'quality': 0.03786933000416146,\n",
              " 'quality.': 0.10074906367041199,\n",
              " 'really': 0.06312421972534332,\n",
              " 'reception': 0.10062421972534333,\n",
              " 'recommend': 0.048451340586172044,\n",
              " 'so': 0.05068664169787765,\n",
              " 'sound': 0.035257652072839984,\n",
              " 'than': 0.04239492301290054,\n",
              " 'that': 0.01895778425116752,\n",
              " 'the': 0.0036610678369829123,\n",
              " 'this': 0.008759542375309551,\n",
              " 'to': 0.00703665872205198,\n",
              " 'up': 0.059484467944481166,\n",
              " 'use': 0.04402106063073332,\n",
              " 'very': 0.016078386864903718,\n",
              " 'was': 0.01586478440411025,\n",
              " 'wear': 0.14374888532191904,\n",
              " 'well': 0.06758218893050352,\n",
              " 'well.': 0.07778738115816768,\n",
              " 'which': 0.0838535164377861,\n",
              " 'with': 0.012603293502169906,\n",
              " 'without': 0.12593632958801498,\n",
              " 'work': 0.050312109862671664,\n",
              " 'worked': 0.0774032459425718,\n",
              " 'working': 0.11222083506727701,\n",
              " 'works': 0.04119850187265917,\n",
              " 'would': 0.037591899015119994,\n",
              " 'years': 0.14374888532191904,\n",
              " 'you': 0.021595346242728505,\n",
              " 'your': 0.0420307948397836}"
            ]
          },
          "metadata": {
            "tags": []
          },
          "execution_count": 1834
        }
      ]
    },
    {
      "cell_type": "code",
      "metadata": {
        "colab": {
          "base_uri": "https://localhost:8080/"
        },
        "id": "kjp8vjoTkfuA",
        "outputId": "b6231adb-253a-4a2d-adb2-067be953b7f8"
      },
      "source": [
        "neg"
      ],
      "execution_count": 1835,
      "outputs": [
        {
          "output_type": "execute_result",
          "data": {
            "text/plain": [
              "{'-': 0.053025822984427366,\n",
              " '2': 0.06312421972534332,\n",
              " 'A': 0.1118046885837148,\n",
              " \"Don't\": 0.11222083506727701,\n",
              " 'I': 0.004757427700970494,\n",
              " \"I'm\": 0.07196361690743713,\n",
              " \"I've\": 0.03879765677518487,\n",
              " 'If': 0.10099875156054931,\n",
              " 'It': 0.02369131608744883,\n",
              " 'NOT': 0.12609238451935081,\n",
              " 'Not': 0.11208211957275627,\n",
              " 'The': 0.012849791419262506,\n",
              " 'This': 0.02261062560688029,\n",
              " 'a': 0.006561738303311337,\n",
              " 'about': 0.07214196540039236,\n",
              " 'after': 0.06749895963379109,\n",
              " 'all': 0.04396678065461651,\n",
              " 'am': 0.059264155100242355,\n",
              " 'an': 0.06724927174365376,\n",
              " 'and': 0.0044953888284805284,\n",
              " 'are': 0.030832671282109488,\n",
              " 'as': 0.02914214374888532,\n",
              " 'at': 0.059411030329734896,\n",
              " 'bad': 0.1677070328755722,\n",
              " 'battery': 0.04402106063073332,\n",
              " 'be': 0.04833244159086856,\n",
              " 'because': 0.0774032459425718,\n",
              " 'better': 0.09159005788219272,\n",
              " 'bought': 0.09147656338667576,\n",
              " 'but': 0.02847135525038147,\n",
              " 'buy': 0.10087390761548065,\n",
              " 'by': 0.1677070328755722,\n",
              " 'car': 0.0838535164377861,\n",
              " 'case': 0.0838535164377861,\n",
              " 'charger': 0.09170355237770968,\n",
              " 'could': 0.08437369954223886,\n",
              " 'did': 0.0840615896795672,\n",
              " 'difficult': 0.1677070328755722,\n",
              " \"doesn't\": 0.11194340407823554,\n",
              " \"don't\": 0.0776913473542687,\n",
              " 'ear.': 0.10087390761548065,\n",
              " 'ever': 0.09170355237770968,\n",
              " 'few': 0.09170355237770968,\n",
              " 'first': 0.09181704687322664,\n",
              " 'for': 0.010888451291555658,\n",
              " 'from': 0.040599250936329594,\n",
              " 'get': 0.05963134317397371,\n",
              " 'good': 0.024633841844036417,\n",
              " 'had': 0.03195224719101124,\n",
              " 'has': 0.037268229527904935,\n",
              " 'have': 0.018179030597717766,\n",
              " 'headset': 0.047975744604958084,\n",
              " 'headset.': 0.10074906367041199,\n",
              " 'hear': 0.10099875156054931,\n",
              " 'if': 0.05970478078871999,\n",
              " 'in': 0.014502419920305099,\n",
              " 'is': 0.005630848037890781,\n",
              " 'it': 0.00791277090687001,\n",
              " 'it.': 0.04613551242764726,\n",
              " 'item': 0.1118046885837148,\n",
              " 'just': 0.06724927174365376,\n",
              " 'like': 0.04044943820224719,\n",
              " 'make': 0.09159005788219272,\n",
              " 'me': 0.07759531355036973,\n",
              " 'money': 0.14392723381487427,\n",
              " 'more': 0.08395755305867665,\n",
              " 'my': 0.010239604340727937,\n",
              " 'new': 0.07187444266095952,\n",
              " 'no': 0.06304619225967541,\n",
              " 'not': 0.014946594534609517,\n",
              " 'of': 0.011832431682618948,\n",
              " 'on': 0.015540276147353123,\n",
              " 'one': 0.03740694502242567,\n",
              " 'only': 0.07788341496206665,\n",
              " 'or': 0.04624900692316423,\n",
              " 'out': 0.0776913473542687,\n",
              " 'phone': 0.011329923616984146,\n",
              " 'phone.': 0.04590852343661332,\n",
              " 'plug': 0.10087390761548065,\n",
              " 'product': 0.05604105978637813,\n",
              " 'product.': 0.06716604244694133,\n",
              " 'quality': 0.037360706524252094,\n",
              " 'really': 0.06296816479400749,\n",
              " 'recommend': 0.04791629510730634,\n",
              " 'right': 0.12578027465667915,\n",
              " 'same': 0.08426966292134831,\n",
              " 'service.': 0.08395755305867665,\n",
              " 'so': 0.050436953807740326,\n",
              " 'sound': 0.03487020534676482,\n",
              " 'still': 0.0840615896795672,\n",
              " 'than': 0.042082813150228875,\n",
              " 'that': 0.019281453738382578,\n",
              " 'the': 0.003714681801122829,\n",
              " 'then': 0.09181704687322664,\n",
              " 'thing': 0.12593632958801498,\n",
              " 'this': 0.00886187347782485,\n",
              " 'time': 0.11194340407823554,\n",
              " 'to': 0.007182580216288081,\n",
              " 'too': 0.09193054136874361,\n",
              " 'unit': 0.14392723381487427,\n",
              " 'up': 0.059264155100242355,\n",
              " 'use': 0.04407534060685013,\n",
              " 'very': 0.015435251390307572,\n",
              " 'was': 0.016114472294247575,\n",
              " 'waste': 0.12609238451935081,\n",
              " 'when': 0.07223113964686997,\n",
              " 'which': 0.0838535164377861,\n",
              " 'while': 0.10062421972534333,\n",
              " 'will': 0.10087390761548065,\n",
              " 'with': 0.01242494500921467,\n",
              " 'work': 0.050811485642946325,\n",
              " 'worked': 0.07749927974647076,\n",
              " 'would': 0.03763813751329357,\n",
              " 'you': 0.022153159614311895,\n",
              " 'your': 0.04244694132334582}"
            ]
          },
          "metadata": {
            "tags": []
          },
          "execution_count": 1835
        }
      ]
    },
    {
      "cell_type": "code",
      "metadata": {
        "id": "I9vPFQ7Ykibp"
      },
      "source": [
        "df_pos = pd.DataFrame.from_dict(pos, orient='index')\n",
        "df_neg = pd.DataFrame.from_dict(neg, orient='index')"
      ],
      "execution_count": 1836,
      "outputs": []
    },
    {
      "cell_type": "code",
      "metadata": {
        "colab": {
          "base_uri": "https://localhost:8080/",
          "height": 352
        },
        "id": "HIb8UmGzkoA7",
        "outputId": "5ef6ac73-5587-4fbe-bef5-907667944579"
      },
      "source": [
        "df_pos.sort_values(by=0,ascending=False).head(10)"
      ],
      "execution_count": 1837,
      "outputs": [
        {
          "output_type": "execute_result",
          "data": {
            "text/html": [
              "<div>\n",
              "<style scoped>\n",
              "    .dataframe tbody tr th:only-of-type {\n",
              "        vertical-align: middle;\n",
              "    }\n",
              "\n",
              "    .dataframe tbody tr th {\n",
              "        vertical-align: top;\n",
              "    }\n",
              "\n",
              "    .dataframe thead th {\n",
              "        text-align: right;\n",
              "    }\n",
              "</style>\n",
              "<table border=\"1\" class=\"dataframe\">\n",
              "  <thead>\n",
              "    <tr style=\"text-align: right;\">\n",
              "      <th></th>\n",
              "      <th>0</th>\n",
              "    </tr>\n",
              "  </thead>\n",
              "  <tbody>\n",
              "    <tr>\n",
              "      <th>excellent</th>\n",
              "      <td>0.167707</td>\n",
              "    </tr>\n",
              "    <tr>\n",
              "      <th>fine</th>\n",
              "      <td>0.167707</td>\n",
              "    </tr>\n",
              "    <tr>\n",
              "      <th>case.</th>\n",
              "      <td>0.167707</td>\n",
              "    </tr>\n",
              "    <tr>\n",
              "      <th>pretty</th>\n",
              "      <td>0.167707</td>\n",
              "    </tr>\n",
              "    <tr>\n",
              "      <th>device</th>\n",
              "      <td>0.143749</td>\n",
              "    </tr>\n",
              "    <tr>\n",
              "      <th>wear</th>\n",
              "      <td>0.143749</td>\n",
              "    </tr>\n",
              "    <tr>\n",
              "      <th>years</th>\n",
              "      <td>0.143749</td>\n",
              "    </tr>\n",
              "    <tr>\n",
              "      <th>Nice</th>\n",
              "      <td>0.126092</td>\n",
              "    </tr>\n",
              "    <tr>\n",
              "      <th>price.</th>\n",
              "      <td>0.126092</td>\n",
              "    </tr>\n",
              "    <tr>\n",
              "      <th>highly</th>\n",
              "      <td>0.125936</td>\n",
              "    </tr>\n",
              "  </tbody>\n",
              "</table>\n",
              "</div>"
            ],
            "text/plain": [
              "                  0\n",
              "excellent  0.167707\n",
              "fine       0.167707\n",
              "case.      0.167707\n",
              "pretty     0.167707\n",
              "device     0.143749\n",
              "wear       0.143749\n",
              "years      0.143749\n",
              "Nice       0.126092\n",
              "price.     0.126092\n",
              "highly     0.125936"
            ]
          },
          "metadata": {
            "tags": []
          },
          "execution_count": 1837
        }
      ]
    },
    {
      "cell_type": "code",
      "metadata": {
        "colab": {
          "base_uri": "https://localhost:8080/",
          "height": 352
        },
        "id": "38_3l-s7kpsH",
        "outputId": "bf019e8f-6f9e-4dc4-d3f0-dce9b0fe5201"
      },
      "source": [
        "df_neg.sort_values(by=0,ascending=False).head(10)"
      ],
      "execution_count": 1838,
      "outputs": [
        {
          "output_type": "execute_result",
          "data": {
            "text/html": [
              "<div>\n",
              "<style scoped>\n",
              "    .dataframe tbody tr th:only-of-type {\n",
              "        vertical-align: middle;\n",
              "    }\n",
              "\n",
              "    .dataframe tbody tr th {\n",
              "        vertical-align: top;\n",
              "    }\n",
              "\n",
              "    .dataframe thead th {\n",
              "        text-align: right;\n",
              "    }\n",
              "</style>\n",
              "<table border=\"1\" class=\"dataframe\">\n",
              "  <thead>\n",
              "    <tr style=\"text-align: right;\">\n",
              "      <th></th>\n",
              "      <th>0</th>\n",
              "    </tr>\n",
              "  </thead>\n",
              "  <tbody>\n",
              "    <tr>\n",
              "      <th>difficult</th>\n",
              "      <td>0.167707</td>\n",
              "    </tr>\n",
              "    <tr>\n",
              "      <th>bad</th>\n",
              "      <td>0.167707</td>\n",
              "    </tr>\n",
              "    <tr>\n",
              "      <th>by</th>\n",
              "      <td>0.167707</td>\n",
              "    </tr>\n",
              "    <tr>\n",
              "      <th>unit</th>\n",
              "      <td>0.143927</td>\n",
              "    </tr>\n",
              "    <tr>\n",
              "      <th>money</th>\n",
              "      <td>0.143927</td>\n",
              "    </tr>\n",
              "    <tr>\n",
              "      <th>NOT</th>\n",
              "      <td>0.126092</td>\n",
              "    </tr>\n",
              "    <tr>\n",
              "      <th>waste</th>\n",
              "      <td>0.126092</td>\n",
              "    </tr>\n",
              "    <tr>\n",
              "      <th>thing</th>\n",
              "      <td>0.125936</td>\n",
              "    </tr>\n",
              "    <tr>\n",
              "      <th>right</th>\n",
              "      <td>0.125780</td>\n",
              "    </tr>\n",
              "    <tr>\n",
              "      <th>Don't</th>\n",
              "      <td>0.112221</td>\n",
              "    </tr>\n",
              "  </tbody>\n",
              "</table>\n",
              "</div>"
            ],
            "text/plain": [
              "                  0\n",
              "difficult  0.167707\n",
              "bad        0.167707\n",
              "by         0.167707\n",
              "unit       0.143927\n",
              "money      0.143927\n",
              "NOT        0.126092\n",
              "waste      0.126092\n",
              "thing      0.125936\n",
              "right      0.125780\n",
              "Don't      0.112221"
            ]
          },
          "metadata": {
            "tags": []
          },
          "execution_count": 1838
        }
      ]
    },
    {
      "cell_type": "code",
      "metadata": {
        "colab": {
          "base_uri": "https://localhost:8080/"
        },
        "id": "sJ-lzfxMk1y-",
        "outputId": "44428724-5845-4dbf-f780-67e88d836e0e"
      },
      "source": [
        "testscore = cross_valid(test_set,5,1)\n",
        "print(\"Accuracy on test data with smoothing with alpha 1 : {} %\".format(np.mean(testscore)))"
      ],
      "execution_count": 1839,
      "outputs": [
        {
          "output_type": "stream",
          "text": [
            "Accuracy on test data with smoothing with alpha 1 : 56.0 %\n"
          ],
          "name": "stdout"
        }
      ]
    }
  ]
}